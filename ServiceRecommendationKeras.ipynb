{
  "cells": [
    {
      "cell_type": "markdown",
      "metadata": {
        "id": "view-in-github",
        "colab_type": "text"
      },
      "source": [
        "<a href=\"https://colab.research.google.com/github/Sweta-Das/ServeMandu_A-Home-Solutions-App/blob/main/ServiceRecommendationKeras.ipynb\" target=\"_parent\"><img src=\"https://colab.research.google.com/assets/colab-badge.svg\" alt=\"Open In Colab\"/></a>"
      ]
    },
    {
      "cell_type": "code",
      "execution_count": null,
      "metadata": {
        "id": "AaMVC8izdadV"
      },
      "outputs": [],
      "source": [
        "import tensorflow as tf\n",
        "from tensorflow import keras\n",
        "import pandas as pd\n",
        "import numpy as np\n",
        "import matplotlib.pyplot as plt\n",
        "import sklearn\n",
        "import collections\n",
        "\n",
        "from keras.wrappers.scikit_learn import KerasClassifier\n",
        "from keras.utils import np_utils\n",
        "from sklearn.model_selection import cross_val_score\n",
        "from sklearn.model_selection import KFold\n",
        "from sklearn.preprocessing import LabelEncoder\n",
        "from sklearn.pipeline import Pipeline\n",
        "from sklearn.model_selection import train_test_split"
      ]
    },
    {
      "cell_type": "code",
      "execution_count": null,
      "metadata": {
        "colab": {
          "base_uri": "https://localhost:8080/"
        },
        "id": "azo8jmnrdpyL",
        "outputId": "b0364fa2-3ee6-439e-c112-4524058d38e5"
      },
      "outputs": [
        {
          "output_type": "stream",
          "name": "stdout",
          "text": [
            "Drive already mounted at /content/drive; to attempt to forcibly remount, call drive.mount(\"/content/drive\", force_remount=True).\n"
          ]
        }
      ],
      "source": [
        "# Downloading dataset\n",
        "from google.colab import drive\n",
        "drive.mount('/content/drive')\n",
        "dataset = pd.read_excel('drive/MyDrive/ServiceRecommendation/DatasetForMP.xlsx')\n",
        "dataset = dataset.sample(frac=1).reset_index(drop=True)"
      ]
    },
    {
      "cell_type": "code",
      "execution_count": null,
      "metadata": {
        "id": "2JY7cnHngkpP",
        "colab": {
          "base_uri": "https://localhost:8080/",
          "height": 357
        },
        "outputId": "b32256ed-939c-42b2-8cfd-3c60a2102e6d"
      },
      "outputs": [
        {
          "output_type": "execute_result",
          "data": {
            "text/plain": [
              "                             uid        lat        lng    serviceIDs  \\\n",
              "0  iaKutxWIZyOFnAH8ymZjwf4KUfl42  68.712635  88.902952  1.678696e+12   \n",
              "1   nM4gMLP8jqTXiGwukwdrXx8TJPk1  27.678546  85.304622  1.677415e+12   \n",
              "2  iaKutxWIZyOFnAH8ymZjwf4KUfl48  74.712635  60.098323  1.677413e+12   \n",
              "3  iaKutxWIZyOFnAH8ymZjwf4KUfl15  41.712635  73.980830  1.678696e+12   \n",
              "4   4vlBpikHTKMLNmThxAQRcCpso152  27.678510  85.304612  1.677413e+12   \n",
              "\n",
              "           orderATime       orderId        itemID         title  \n",
              "0 2023-03-13 20:34:50  1.678719e+12  1.677415e+12      Software  \n",
              "1 2023-03-13 20:21:31  1.678718e+12  1.677415e+12     Antivirus  \n",
              "2 2023-03-13 20:34:34  1.678719e+12  1.677413e+12        Facial  \n",
              "3 2023-03-13 20:34:50  1.678719e+12  1.677413e+12  Thread & wax  \n",
              "4 2023-01-19 22:07:13  1.678725e+12  1.677413e+12  Thread & wax  "
            ],
            "text/html": [
              "\n",
              "  <div id=\"df-fa3fc88a-c705-4a06-9750-2ad0ef11a4a3\">\n",
              "    <div class=\"colab-df-container\">\n",
              "      <div>\n",
              "<style scoped>\n",
              "    .dataframe tbody tr th:only-of-type {\n",
              "        vertical-align: middle;\n",
              "    }\n",
              "\n",
              "    .dataframe tbody tr th {\n",
              "        vertical-align: top;\n",
              "    }\n",
              "\n",
              "    .dataframe thead th {\n",
              "        text-align: right;\n",
              "    }\n",
              "</style>\n",
              "<table border=\"1\" class=\"dataframe\">\n",
              "  <thead>\n",
              "    <tr style=\"text-align: right;\">\n",
              "      <th></th>\n",
              "      <th>uid</th>\n",
              "      <th>lat</th>\n",
              "      <th>lng</th>\n",
              "      <th>serviceIDs</th>\n",
              "      <th>orderATime</th>\n",
              "      <th>orderId</th>\n",
              "      <th>itemID</th>\n",
              "      <th>title</th>\n",
              "    </tr>\n",
              "  </thead>\n",
              "  <tbody>\n",
              "    <tr>\n",
              "      <th>0</th>\n",
              "      <td>iaKutxWIZyOFnAH8ymZjwf4KUfl42</td>\n",
              "      <td>68.712635</td>\n",
              "      <td>88.902952</td>\n",
              "      <td>1.678696e+12</td>\n",
              "      <td>2023-03-13 20:34:50</td>\n",
              "      <td>1.678719e+12</td>\n",
              "      <td>1.677415e+12</td>\n",
              "      <td>Software</td>\n",
              "    </tr>\n",
              "    <tr>\n",
              "      <th>1</th>\n",
              "      <td>nM4gMLP8jqTXiGwukwdrXx8TJPk1</td>\n",
              "      <td>27.678546</td>\n",
              "      <td>85.304622</td>\n",
              "      <td>1.677415e+12</td>\n",
              "      <td>2023-03-13 20:21:31</td>\n",
              "      <td>1.678718e+12</td>\n",
              "      <td>1.677415e+12</td>\n",
              "      <td>Antivirus</td>\n",
              "    </tr>\n",
              "    <tr>\n",
              "      <th>2</th>\n",
              "      <td>iaKutxWIZyOFnAH8ymZjwf4KUfl48</td>\n",
              "      <td>74.712635</td>\n",
              "      <td>60.098323</td>\n",
              "      <td>1.677413e+12</td>\n",
              "      <td>2023-03-13 20:34:34</td>\n",
              "      <td>1.678719e+12</td>\n",
              "      <td>1.677413e+12</td>\n",
              "      <td>Facial</td>\n",
              "    </tr>\n",
              "    <tr>\n",
              "      <th>3</th>\n",
              "      <td>iaKutxWIZyOFnAH8ymZjwf4KUfl15</td>\n",
              "      <td>41.712635</td>\n",
              "      <td>73.980830</td>\n",
              "      <td>1.678696e+12</td>\n",
              "      <td>2023-03-13 20:34:50</td>\n",
              "      <td>1.678719e+12</td>\n",
              "      <td>1.677413e+12</td>\n",
              "      <td>Thread &amp; wax</td>\n",
              "    </tr>\n",
              "    <tr>\n",
              "      <th>4</th>\n",
              "      <td>4vlBpikHTKMLNmThxAQRcCpso152</td>\n",
              "      <td>27.678510</td>\n",
              "      <td>85.304612</td>\n",
              "      <td>1.677413e+12</td>\n",
              "      <td>2023-01-19 22:07:13</td>\n",
              "      <td>1.678725e+12</td>\n",
              "      <td>1.677413e+12</td>\n",
              "      <td>Thread &amp; wax</td>\n",
              "    </tr>\n",
              "  </tbody>\n",
              "</table>\n",
              "</div>\n",
              "      <button class=\"colab-df-convert\" onclick=\"convertToInteractive('df-fa3fc88a-c705-4a06-9750-2ad0ef11a4a3')\"\n",
              "              title=\"Convert this dataframe to an interactive table.\"\n",
              "              style=\"display:none;\">\n",
              "        \n",
              "  <svg xmlns=\"http://www.w3.org/2000/svg\" height=\"24px\"viewBox=\"0 0 24 24\"\n",
              "       width=\"24px\">\n",
              "    <path d=\"M0 0h24v24H0V0z\" fill=\"none\"/>\n",
              "    <path d=\"M18.56 5.44l.94 2.06.94-2.06 2.06-.94-2.06-.94-.94-2.06-.94 2.06-2.06.94zm-11 1L8.5 8.5l.94-2.06 2.06-.94-2.06-.94L8.5 2.5l-.94 2.06-2.06.94zm10 10l.94 2.06.94-2.06 2.06-.94-2.06-.94-.94-2.06-.94 2.06-2.06.94z\"/><path d=\"M17.41 7.96l-1.37-1.37c-.4-.4-.92-.59-1.43-.59-.52 0-1.04.2-1.43.59L10.3 9.45l-7.72 7.72c-.78.78-.78 2.05 0 2.83L4 21.41c.39.39.9.59 1.41.59.51 0 1.02-.2 1.41-.59l7.78-7.78 2.81-2.81c.8-.78.8-2.07 0-2.86zM5.41 20L4 18.59l7.72-7.72 1.47 1.35L5.41 20z\"/>\n",
              "  </svg>\n",
              "      </button>\n",
              "      \n",
              "  <style>\n",
              "    .colab-df-container {\n",
              "      display:flex;\n",
              "      flex-wrap:wrap;\n",
              "      gap: 12px;\n",
              "    }\n",
              "\n",
              "    .colab-df-convert {\n",
              "      background-color: #E8F0FE;\n",
              "      border: none;\n",
              "      border-radius: 50%;\n",
              "      cursor: pointer;\n",
              "      display: none;\n",
              "      fill: #1967D2;\n",
              "      height: 32px;\n",
              "      padding: 0 0 0 0;\n",
              "      width: 32px;\n",
              "    }\n",
              "\n",
              "    .colab-df-convert:hover {\n",
              "      background-color: #E2EBFA;\n",
              "      box-shadow: 0px 1px 2px rgba(60, 64, 67, 0.3), 0px 1px 3px 1px rgba(60, 64, 67, 0.15);\n",
              "      fill: #174EA6;\n",
              "    }\n",
              "\n",
              "    [theme=dark] .colab-df-convert {\n",
              "      background-color: #3B4455;\n",
              "      fill: #D2E3FC;\n",
              "    }\n",
              "\n",
              "    [theme=dark] .colab-df-convert:hover {\n",
              "      background-color: #434B5C;\n",
              "      box-shadow: 0px 1px 3px 1px rgba(0, 0, 0, 0.15);\n",
              "      filter: drop-shadow(0px 1px 2px rgba(0, 0, 0, 0.3));\n",
              "      fill: #FFFFFF;\n",
              "    }\n",
              "  </style>\n",
              "\n",
              "      <script>\n",
              "        const buttonEl =\n",
              "          document.querySelector('#df-fa3fc88a-c705-4a06-9750-2ad0ef11a4a3 button.colab-df-convert');\n",
              "        buttonEl.style.display =\n",
              "          google.colab.kernel.accessAllowed ? 'block' : 'none';\n",
              "\n",
              "        async function convertToInteractive(key) {\n",
              "          const element = document.querySelector('#df-fa3fc88a-c705-4a06-9750-2ad0ef11a4a3');\n",
              "          const dataTable =\n",
              "            await google.colab.kernel.invokeFunction('convertToInteractive',\n",
              "                                                     [key], {});\n",
              "          if (!dataTable) return;\n",
              "\n",
              "          const docLinkHtml = 'Like what you see? Visit the ' +\n",
              "            '<a target=\"_blank\" href=https://colab.research.google.com/notebooks/data_table.ipynb>data table notebook</a>'\n",
              "            + ' to learn more about interactive tables.';\n",
              "          element.innerHTML = '';\n",
              "          dataTable['output_type'] = 'display_data';\n",
              "          await google.colab.output.renderOutput(dataTable, element);\n",
              "          const docLink = document.createElement('div');\n",
              "          docLink.innerHTML = docLinkHtml;\n",
              "          element.appendChild(docLink);\n",
              "        }\n",
              "      </script>\n",
              "    </div>\n",
              "  </div>\n",
              "  "
            ]
          },
          "metadata": {},
          "execution_count": 292
        }
      ],
      "source": [
        "dataset.head()"
      ]
    },
    {
      "cell_type": "code",
      "execution_count": null,
      "metadata": {
        "id": "wDNf2hDagtWh",
        "colab": {
          "base_uri": "https://localhost:8080/",
          "height": 300
        },
        "outputId": "d0ae5b8d-fd4f-4f63-f67c-66f797f0ed48"
      },
      "outputs": [
        {
          "output_type": "execute_result",
          "data": {
            "text/plain": [
              "              lat         lng    serviceIDs       orderId        itemID\n",
              "count  229.000000  229.000000  2.290000e+02  2.290000e+02  2.290000e+02\n",
              "mean    34.887776   81.117092  1.678148e+12  1.678713e+12  1.678089e+12\n",
              "std     14.582720    9.233089  6.487458e+08  1.056461e+07  8.818890e+08\n",
              "min     20.204678   40.091453  1.677413e+12  1.678649e+12  1.677413e+12\n",
              "25%     27.688812   84.902952  1.677413e+12  1.678710e+12  1.677413e+12\n",
              "50%     27.712647   85.294191  1.678696e+12  1.678719e+12  1.677415e+12\n",
              "75%     32.712635   85.294276  1.678696e+12  1.678719e+12  1.678696e+12\n",
              "max     82.712635   89.980835  1.678844e+12  1.678725e+12  1.681690e+12"
            ],
            "text/html": [
              "\n",
              "  <div id=\"df-9eaf469c-50f7-4508-848d-82cbcf89a51f\">\n",
              "    <div class=\"colab-df-container\">\n",
              "      <div>\n",
              "<style scoped>\n",
              "    .dataframe tbody tr th:only-of-type {\n",
              "        vertical-align: middle;\n",
              "    }\n",
              "\n",
              "    .dataframe tbody tr th {\n",
              "        vertical-align: top;\n",
              "    }\n",
              "\n",
              "    .dataframe thead th {\n",
              "        text-align: right;\n",
              "    }\n",
              "</style>\n",
              "<table border=\"1\" class=\"dataframe\">\n",
              "  <thead>\n",
              "    <tr style=\"text-align: right;\">\n",
              "      <th></th>\n",
              "      <th>lat</th>\n",
              "      <th>lng</th>\n",
              "      <th>serviceIDs</th>\n",
              "      <th>orderId</th>\n",
              "      <th>itemID</th>\n",
              "    </tr>\n",
              "  </thead>\n",
              "  <tbody>\n",
              "    <tr>\n",
              "      <th>count</th>\n",
              "      <td>229.000000</td>\n",
              "      <td>229.000000</td>\n",
              "      <td>2.290000e+02</td>\n",
              "      <td>2.290000e+02</td>\n",
              "      <td>2.290000e+02</td>\n",
              "    </tr>\n",
              "    <tr>\n",
              "      <th>mean</th>\n",
              "      <td>34.887776</td>\n",
              "      <td>81.117092</td>\n",
              "      <td>1.678148e+12</td>\n",
              "      <td>1.678713e+12</td>\n",
              "      <td>1.678089e+12</td>\n",
              "    </tr>\n",
              "    <tr>\n",
              "      <th>std</th>\n",
              "      <td>14.582720</td>\n",
              "      <td>9.233089</td>\n",
              "      <td>6.487458e+08</td>\n",
              "      <td>1.056461e+07</td>\n",
              "      <td>8.818890e+08</td>\n",
              "    </tr>\n",
              "    <tr>\n",
              "      <th>min</th>\n",
              "      <td>20.204678</td>\n",
              "      <td>40.091453</td>\n",
              "      <td>1.677413e+12</td>\n",
              "      <td>1.678649e+12</td>\n",
              "      <td>1.677413e+12</td>\n",
              "    </tr>\n",
              "    <tr>\n",
              "      <th>25%</th>\n",
              "      <td>27.688812</td>\n",
              "      <td>84.902952</td>\n",
              "      <td>1.677413e+12</td>\n",
              "      <td>1.678710e+12</td>\n",
              "      <td>1.677413e+12</td>\n",
              "    </tr>\n",
              "    <tr>\n",
              "      <th>50%</th>\n",
              "      <td>27.712647</td>\n",
              "      <td>85.294191</td>\n",
              "      <td>1.678696e+12</td>\n",
              "      <td>1.678719e+12</td>\n",
              "      <td>1.677415e+12</td>\n",
              "    </tr>\n",
              "    <tr>\n",
              "      <th>75%</th>\n",
              "      <td>32.712635</td>\n",
              "      <td>85.294276</td>\n",
              "      <td>1.678696e+12</td>\n",
              "      <td>1.678719e+12</td>\n",
              "      <td>1.678696e+12</td>\n",
              "    </tr>\n",
              "    <tr>\n",
              "      <th>max</th>\n",
              "      <td>82.712635</td>\n",
              "      <td>89.980835</td>\n",
              "      <td>1.678844e+12</td>\n",
              "      <td>1.678725e+12</td>\n",
              "      <td>1.681690e+12</td>\n",
              "    </tr>\n",
              "  </tbody>\n",
              "</table>\n",
              "</div>\n",
              "      <button class=\"colab-df-convert\" onclick=\"convertToInteractive('df-9eaf469c-50f7-4508-848d-82cbcf89a51f')\"\n",
              "              title=\"Convert this dataframe to an interactive table.\"\n",
              "              style=\"display:none;\">\n",
              "        \n",
              "  <svg xmlns=\"http://www.w3.org/2000/svg\" height=\"24px\"viewBox=\"0 0 24 24\"\n",
              "       width=\"24px\">\n",
              "    <path d=\"M0 0h24v24H0V0z\" fill=\"none\"/>\n",
              "    <path d=\"M18.56 5.44l.94 2.06.94-2.06 2.06-.94-2.06-.94-.94-2.06-.94 2.06-2.06.94zm-11 1L8.5 8.5l.94-2.06 2.06-.94-2.06-.94L8.5 2.5l-.94 2.06-2.06.94zm10 10l.94 2.06.94-2.06 2.06-.94-2.06-.94-.94-2.06-.94 2.06-2.06.94z\"/><path d=\"M17.41 7.96l-1.37-1.37c-.4-.4-.92-.59-1.43-.59-.52 0-1.04.2-1.43.59L10.3 9.45l-7.72 7.72c-.78.78-.78 2.05 0 2.83L4 21.41c.39.39.9.59 1.41.59.51 0 1.02-.2 1.41-.59l7.78-7.78 2.81-2.81c.8-.78.8-2.07 0-2.86zM5.41 20L4 18.59l7.72-7.72 1.47 1.35L5.41 20z\"/>\n",
              "  </svg>\n",
              "      </button>\n",
              "      \n",
              "  <style>\n",
              "    .colab-df-container {\n",
              "      display:flex;\n",
              "      flex-wrap:wrap;\n",
              "      gap: 12px;\n",
              "    }\n",
              "\n",
              "    .colab-df-convert {\n",
              "      background-color: #E8F0FE;\n",
              "      border: none;\n",
              "      border-radius: 50%;\n",
              "      cursor: pointer;\n",
              "      display: none;\n",
              "      fill: #1967D2;\n",
              "      height: 32px;\n",
              "      padding: 0 0 0 0;\n",
              "      width: 32px;\n",
              "    }\n",
              "\n",
              "    .colab-df-convert:hover {\n",
              "      background-color: #E2EBFA;\n",
              "      box-shadow: 0px 1px 2px rgba(60, 64, 67, 0.3), 0px 1px 3px 1px rgba(60, 64, 67, 0.15);\n",
              "      fill: #174EA6;\n",
              "    }\n",
              "\n",
              "    [theme=dark] .colab-df-convert {\n",
              "      background-color: #3B4455;\n",
              "      fill: #D2E3FC;\n",
              "    }\n",
              "\n",
              "    [theme=dark] .colab-df-convert:hover {\n",
              "      background-color: #434B5C;\n",
              "      box-shadow: 0px 1px 3px 1px rgba(0, 0, 0, 0.15);\n",
              "      filter: drop-shadow(0px 1px 2px rgba(0, 0, 0, 0.3));\n",
              "      fill: #FFFFFF;\n",
              "    }\n",
              "  </style>\n",
              "\n",
              "      <script>\n",
              "        const buttonEl =\n",
              "          document.querySelector('#df-9eaf469c-50f7-4508-848d-82cbcf89a51f button.colab-df-convert');\n",
              "        buttonEl.style.display =\n",
              "          google.colab.kernel.accessAllowed ? 'block' : 'none';\n",
              "\n",
              "        async function convertToInteractive(key) {\n",
              "          const element = document.querySelector('#df-9eaf469c-50f7-4508-848d-82cbcf89a51f');\n",
              "          const dataTable =\n",
              "            await google.colab.kernel.invokeFunction('convertToInteractive',\n",
              "                                                     [key], {});\n",
              "          if (!dataTable) return;\n",
              "\n",
              "          const docLinkHtml = 'Like what you see? Visit the ' +\n",
              "            '<a target=\"_blank\" href=https://colab.research.google.com/notebooks/data_table.ipynb>data table notebook</a>'\n",
              "            + ' to learn more about interactive tables.';\n",
              "          element.innerHTML = '';\n",
              "          dataTable['output_type'] = 'display_data';\n",
              "          await google.colab.output.renderOutput(dataTable, element);\n",
              "          const docLink = document.createElement('div');\n",
              "          docLink.innerHTML = docLinkHtml;\n",
              "          element.appendChild(docLink);\n",
              "        }\n",
              "      </script>\n",
              "    </div>\n",
              "  </div>\n",
              "  "
            ]
          },
          "metadata": {},
          "execution_count": 293
        }
      ],
      "source": [
        "dataset.describe()"
      ]
    },
    {
      "cell_type": "code",
      "execution_count": null,
      "metadata": {
        "id": "MorA_35Pg20g",
        "colab": {
          "base_uri": "https://localhost:8080/"
        },
        "outputId": "cea0fa2f-dd40-4317-9c2b-5b18c83088e8"
      },
      "outputs": [
        {
          "output_type": "execute_result",
          "data": {
            "text/plain": [
              "111"
            ]
          },
          "metadata": {},
          "execution_count": 294
        }
      ],
      "source": [
        "dataset[\"uid\"].unique()\n",
        "\n",
        "dataset[\"uid\"].nunique()"
      ]
    },
    {
      "cell_type": "code",
      "execution_count": null,
      "metadata": {
        "id": "4CWOc8-TltCd"
      },
      "outputs": [],
      "source": [
        "X = dataset.drop(columns=[\"itemID\", \"serviceIDs\", \"itemID\", \"uid\", \"orderId\", \"orderATime\", \"title\"])"
      ]
    },
    {
      "cell_type": "code",
      "execution_count": null,
      "metadata": {
        "id": "sx9BLWmIYk9P",
        "colab": {
          "base_uri": "https://localhost:8080/",
          "height": 144
        },
        "outputId": "32dead26-4daa-4b97-8f06-1dd6e8a8414d"
      },
      "outputs": [
        {
          "output_type": "execute_result",
          "data": {
            "text/plain": [
              "         lat        lng\n",
              "0  68.712635  88.902952\n",
              "1  27.678546  85.304622\n",
              "2  74.712635  60.098323"
            ],
            "text/html": [
              "\n",
              "  <div id=\"df-debd8c4f-e078-4c6b-aad4-0e8e7405d99e\">\n",
              "    <div class=\"colab-df-container\">\n",
              "      <div>\n",
              "<style scoped>\n",
              "    .dataframe tbody tr th:only-of-type {\n",
              "        vertical-align: middle;\n",
              "    }\n",
              "\n",
              "    .dataframe tbody tr th {\n",
              "        vertical-align: top;\n",
              "    }\n",
              "\n",
              "    .dataframe thead th {\n",
              "        text-align: right;\n",
              "    }\n",
              "</style>\n",
              "<table border=\"1\" class=\"dataframe\">\n",
              "  <thead>\n",
              "    <tr style=\"text-align: right;\">\n",
              "      <th></th>\n",
              "      <th>lat</th>\n",
              "      <th>lng</th>\n",
              "    </tr>\n",
              "  </thead>\n",
              "  <tbody>\n",
              "    <tr>\n",
              "      <th>0</th>\n",
              "      <td>68.712635</td>\n",
              "      <td>88.902952</td>\n",
              "    </tr>\n",
              "    <tr>\n",
              "      <th>1</th>\n",
              "      <td>27.678546</td>\n",
              "      <td>85.304622</td>\n",
              "    </tr>\n",
              "    <tr>\n",
              "      <th>2</th>\n",
              "      <td>74.712635</td>\n",
              "      <td>60.098323</td>\n",
              "    </tr>\n",
              "  </tbody>\n",
              "</table>\n",
              "</div>\n",
              "      <button class=\"colab-df-convert\" onclick=\"convertToInteractive('df-debd8c4f-e078-4c6b-aad4-0e8e7405d99e')\"\n",
              "              title=\"Convert this dataframe to an interactive table.\"\n",
              "              style=\"display:none;\">\n",
              "        \n",
              "  <svg xmlns=\"http://www.w3.org/2000/svg\" height=\"24px\"viewBox=\"0 0 24 24\"\n",
              "       width=\"24px\">\n",
              "    <path d=\"M0 0h24v24H0V0z\" fill=\"none\"/>\n",
              "    <path d=\"M18.56 5.44l.94 2.06.94-2.06 2.06-.94-2.06-.94-.94-2.06-.94 2.06-2.06.94zm-11 1L8.5 8.5l.94-2.06 2.06-.94-2.06-.94L8.5 2.5l-.94 2.06-2.06.94zm10 10l.94 2.06.94-2.06 2.06-.94-2.06-.94-.94-2.06-.94 2.06-2.06.94z\"/><path d=\"M17.41 7.96l-1.37-1.37c-.4-.4-.92-.59-1.43-.59-.52 0-1.04.2-1.43.59L10.3 9.45l-7.72 7.72c-.78.78-.78 2.05 0 2.83L4 21.41c.39.39.9.59 1.41.59.51 0 1.02-.2 1.41-.59l7.78-7.78 2.81-2.81c.8-.78.8-2.07 0-2.86zM5.41 20L4 18.59l7.72-7.72 1.47 1.35L5.41 20z\"/>\n",
              "  </svg>\n",
              "      </button>\n",
              "      \n",
              "  <style>\n",
              "    .colab-df-container {\n",
              "      display:flex;\n",
              "      flex-wrap:wrap;\n",
              "      gap: 12px;\n",
              "    }\n",
              "\n",
              "    .colab-df-convert {\n",
              "      background-color: #E8F0FE;\n",
              "      border: none;\n",
              "      border-radius: 50%;\n",
              "      cursor: pointer;\n",
              "      display: none;\n",
              "      fill: #1967D2;\n",
              "      height: 32px;\n",
              "      padding: 0 0 0 0;\n",
              "      width: 32px;\n",
              "    }\n",
              "\n",
              "    .colab-df-convert:hover {\n",
              "      background-color: #E2EBFA;\n",
              "      box-shadow: 0px 1px 2px rgba(60, 64, 67, 0.3), 0px 1px 3px 1px rgba(60, 64, 67, 0.15);\n",
              "      fill: #174EA6;\n",
              "    }\n",
              "\n",
              "    [theme=dark] .colab-df-convert {\n",
              "      background-color: #3B4455;\n",
              "      fill: #D2E3FC;\n",
              "    }\n",
              "\n",
              "    [theme=dark] .colab-df-convert:hover {\n",
              "      background-color: #434B5C;\n",
              "      box-shadow: 0px 1px 3px 1px rgba(0, 0, 0, 0.15);\n",
              "      filter: drop-shadow(0px 1px 2px rgba(0, 0, 0, 0.3));\n",
              "      fill: #FFFFFF;\n",
              "    }\n",
              "  </style>\n",
              "\n",
              "      <script>\n",
              "        const buttonEl =\n",
              "          document.querySelector('#df-debd8c4f-e078-4c6b-aad4-0e8e7405d99e button.colab-df-convert');\n",
              "        buttonEl.style.display =\n",
              "          google.colab.kernel.accessAllowed ? 'block' : 'none';\n",
              "\n",
              "        async function convertToInteractive(key) {\n",
              "          const element = document.querySelector('#df-debd8c4f-e078-4c6b-aad4-0e8e7405d99e');\n",
              "          const dataTable =\n",
              "            await google.colab.kernel.invokeFunction('convertToInteractive',\n",
              "                                                     [key], {});\n",
              "          if (!dataTable) return;\n",
              "\n",
              "          const docLinkHtml = 'Like what you see? Visit the ' +\n",
              "            '<a target=\"_blank\" href=https://colab.research.google.com/notebooks/data_table.ipynb>data table notebook</a>'\n",
              "            + ' to learn more about interactive tables.';\n",
              "          element.innerHTML = '';\n",
              "          dataTable['output_type'] = 'display_data';\n",
              "          await google.colab.output.renderOutput(dataTable, element);\n",
              "          const docLink = document.createElement('div');\n",
              "          docLink.innerHTML = docLinkHtml;\n",
              "          element.appendChild(docLink);\n",
              "        }\n",
              "      </script>\n",
              "    </div>\n",
              "  </div>\n",
              "  "
            ]
          },
          "metadata": {},
          "execution_count": 296
        }
      ],
      "source": [
        "X.head(3)"
      ]
    },
    {
      "cell_type": "code",
      "execution_count": null,
      "metadata": {
        "id": "r5bXE3ythQBI"
      },
      "outputs": [],
      "source": [
        "# Output\n",
        "y = dataset[\"title\"].astype('category')"
      ]
    },
    {
      "cell_type": "code",
      "execution_count": null,
      "metadata": {
        "id": "yQ1_AmA7k27H",
        "colab": {
          "base_uri": "https://localhost:8080/"
        },
        "outputId": "066e425c-71f4-404a-ba6f-c18f3044ad39"
      },
      "outputs": [
        {
          "output_type": "execute_result",
          "data": {
            "text/plain": [
              "0        Software\n",
              "1       Antivirus\n",
              "2          Facial\n",
              "3    Thread & wax\n",
              "4    Thread & wax\n",
              "Name: title, dtype: category\n",
              "Categories (16, object): ['Air Conditioner', 'Antivirus', 'Electrician Service', 'Facial', ...,\n",
              "                          'Room Cleaning', 'Software', 'TV', 'Thread & wax']"
            ]
          },
          "metadata": {},
          "execution_count": 298
        }
      ],
      "source": [
        "y.head()"
      ]
    },
    {
      "cell_type": "code",
      "execution_count": null,
      "metadata": {
        "id": "O3njV74ksRJK",
        "colab": {
          "base_uri": "https://localhost:8080/"
        },
        "outputId": "6e712e69-7ebc-4046-cd94-baafdccff03f"
      },
      "outputs": [
        {
          "output_type": "execute_result",
          "data": {
            "text/plain": [
              "array(['Software', 'Antivirus', 'Facial', 'Thread & wax', 'Manicure',\n",
              "       'Plumbing Service', 'Pest Cleaning', 'Microwave', 'Hardware', 'TV',\n",
              "       'Pedicure', 'Room Cleaning', 'Refrigerator', 'Air Conditioner',\n",
              "       'Gardening Service', 'Electrician Service'], dtype=object)"
            ]
          },
          "metadata": {},
          "execution_count": 299
        }
      ],
      "source": [
        "dataset[\"title\"].unique()"
      ]
    },
    {
      "cell_type": "code",
      "execution_count": null,
      "metadata": {
        "id": "vDNvO2_glT-J",
        "colab": {
          "base_uri": "https://localhost:8080/"
        },
        "outputId": "3e17d732-93c9-40d5-84fe-0d90ced0b6da"
      },
      "outputs": [
        {
          "output_type": "stream",
          "name": "stdout",
          "text": [
            "<class 'pandas.core.frame.DataFrame'>\n",
            "(229, 1)\n"
          ]
        }
      ],
      "source": [
        "y = pd.DataFrame(y)\n",
        "print(type(y))\n",
        "print(y.shape)"
      ]
    },
    {
      "cell_type": "code",
      "execution_count": null,
      "metadata": {
        "id": "PvAKWQ8-U_qR",
        "colab": {
          "base_uri": "https://localhost:8080/",
          "height": 763
        },
        "outputId": "c7f1ed38-28e8-4b2b-8c71-664b101fc7f8"
      },
      "outputs": [
        {
          "output_type": "stream",
          "name": "stdout",
          "text": [
            "Class = 13, n=12, (5.240%)\n",
            "Class = 1, n=14, (6.114%)\n",
            "Class = 3, n=21, (9.170%)\n",
            "Class = 15, n=26, (11.354%)\n",
            "Class = 6, n=14, (6.114%)\n",
            "Class = 10, n=8, (3.493%)\n",
            "Class = 9, n=27, (11.790%)\n",
            "Class = 7, n=8, (3.493%)\n",
            "Class = 5, n=18, (7.860%)\n",
            "Class = 14, n=11, (4.803%)\n",
            "Class = 8, n=17, (7.424%)\n",
            "Class = 12, n=14, (6.114%)\n",
            "Class = 11, n=13, (5.677%)\n",
            "Class = 0, n=7, (3.057%)\n",
            "Class = 4, n=12, (5.240%)\n",
            "Class = 2, n=7, (3.057%)\n"
          ]
        },
        {
          "output_type": "stream",
          "name": "stderr",
          "text": [
            "/usr/local/lib/python3.9/dist-packages/sklearn/preprocessing/_label.py:116: DataConversionWarning: A column-vector y was passed when a 1d array was expected. Please change the shape of y to (n_samples, ), for example using ravel().\n",
            "  y = column_or_1d(y, warn=True)\n"
          ]
        },
        {
          "output_type": "display_data",
          "data": {
            "text/plain": [
              "<Figure size 640x480 with 1 Axes>"
            ],
            "image/png": "[encoded data removed]"
          },
          "metadata": {}
        }
      ],
      "source": [
        "from imblearn.over_sampling import SMOTE\n",
        "from collections import Counter\n",
        "from matplotlib import pyplot\n",
        "from sklearn.preprocessing import LabelEncoder\n",
        "encoder = LabelEncoder()\n",
        "y = encoder.fit_transform(y)\n",
        "\n",
        "counter = Counter(y)\n",
        "for k,v in counter.items():\n",
        "  per = v/len(y)*100\n",
        "  print('Class = %d, n=%d, (%.3f%%)'%(k,v,per))\n",
        "pyplot.bar(counter.keys(),counter.values())\n",
        "pyplot.show()"
      ]
    },
    {
      "cell_type": "code",
      "source": [
        "# y = encoder.inverse_transform(y)\n",
        "print(y)\n"
      ],
      "metadata": {
        "colab": {
          "base_uri": "https://localhost:8080/"
        },
        "id": "xaNptfOkrnqg",
        "outputId": "f41947d8-8396-428c-c6cb-ba66b49796aa"
      },
      "execution_count": null,
      "outputs": [
        {
          "output_type": "stream",
          "name": "stdout",
          "text": [
            "[13  1  3 15 15  1 15  6 15 10  1  9  1  7 15  6  5 15 14  6  8  3  3 15\n",
            "  6 12  1 11  3  3 15 12 12  0  5  0 15  3  6  0  8 13 12  4  6  9  9  9\n",
            " 10  8  2  5  9  2  8 12 11 13 10 15  8  5  9 14  9  4  9 11 12 15  9  4\n",
            "  9  4  1  7 11 13 15 12  4  8  8  0  7 10  8  9  9 15 14 12  3  4 13  5\n",
            "  7  5  9  9  1  5 11  5  8 11 14  1  7 15 15  9 12 12 14  0  4  9 11  6\n",
            "  6  4 14  1 15  6 15 11  7  5 14  8  3  1  8 13  6  5 11  5  6  5  5  9\n",
            "  2 13 14  8  8 13  8  2  5  7  5 15  5  6  3  3  4  9  9 12  3  4  4 12\n",
            " 11 14 15 15  3 11 13  3  1  9  5  3  3  6 14  3  1  7 15 10  1  1 12  9\n",
            "  0 15 10 12 13  3  8  8  6  2  3  4  8  9  9 14 10 11  5  3  3  9  2 10\n",
            "  9  9 15 13 15 11 15 13  9  2  3 15  0]\n"
          ]
        }
      ]
    },
    {
      "cell_type": "code",
      "execution_count": null,
      "metadata": {
        "id": "t19_cBNJX5eh",
        "colab": {
          "base_uri": "https://localhost:8080/",
          "height": 708
        },
        "outputId": "c1790517-14b7-40ee-f67b-c0d41740c9be"
      },
      "outputs": [
        {
          "output_type": "stream",
          "name": "stdout",
          "text": [
            "Class = 13, n=27, (6.250%)\n",
            "Class = 1, n=27, (6.250%)\n",
            "Class = 3, n=27, (6.250%)\n",
            "Class = 15, n=27, (6.250%)\n",
            "Class = 6, n=27, (6.250%)\n",
            "Class = 10, n=27, (6.250%)\n",
            "Class = 9, n=27, (6.250%)\n",
            "Class = 7, n=27, (6.250%)\n",
            "Class = 5, n=27, (6.250%)\n",
            "Class = 14, n=27, (6.250%)\n",
            "Class = 8, n=27, (6.250%)\n",
            "Class = 12, n=27, (6.250%)\n",
            "Class = 11, n=27, (6.250%)\n",
            "Class = 0, n=27, (6.250%)\n",
            "Class = 4, n=27, (6.250%)\n",
            "Class = 2, n=27, (6.250%)\n"
          ]
        },
        {
          "output_type": "display_data",
          "data": {
            "text/plain": [
              "<Figure size 640x480 with 1 Axes>"
            ],
            "image/png": "[encoded data removed]"
          },
          "metadata": {}
        }
      ],
      "source": [
        "oversample = SMOTE()\n",
        "\n",
        "X,y = oversample.fit_resample(X,y)\n",
        "\n",
        "counter = Counter(y)\n",
        "for k,v in counter.items():\n",
        "  per = v/len(y)*100\n",
        "  print('Class = %d, n=%d, (%.3f%%)'%(k,v,per))\n",
        "pyplot.bar(counter.keys(),counter.values())\n",
        "pyplot.show()"
      ]
    },
    {
      "cell_type": "code",
      "execution_count": null,
      "metadata": {
        "id": "7UGwGXKAl6uf",
        "colab": {
          "base_uri": "https://localhost:8080/",
          "height": 206
        },
        "outputId": "a3396739-4936-46c7-b3b0-6b88349841eb"
      },
      "outputs": [
        {
          "output_type": "execute_result",
          "data": {
            "text/plain": [
              "         lat        lng\n",
              "0  68.712635  88.902952\n",
              "1  27.678546  85.304622\n",
              "2  74.712635  60.098323\n",
              "3  41.712635  73.980830\n",
              "4  27.678510  85.304612"
            ],
            "text/html": [
              "\n",
              "  <div id=\"df-4ffa0ccc-c9ca-40ce-b614-ee332e7303ab\">\n",
              "    <div class=\"colab-df-container\">\n",
              "      <div>\n",
              "<style scoped>\n",
              "    .dataframe tbody tr th:only-of-type {\n",
              "        vertical-align: middle;\n",
              "    }\n",
              "\n",
              "    .dataframe tbody tr th {\n",
              "        vertical-align: top;\n",
              "    }\n",
              "\n",
              "    .dataframe thead th {\n",
              "        text-align: right;\n",
              "    }\n",
              "</style>\n",
              "<table border=\"1\" class=\"dataframe\">\n",
              "  <thead>\n",
              "    <tr style=\"text-align: right;\">\n",
              "      <th></th>\n",
              "      <th>lat</th>\n",
              "      <th>lng</th>\n",
              "    </tr>\n",
              "  </thead>\n",
              "  <tbody>\n",
              "    <tr>\n",
              "      <th>0</th>\n",
              "      <td>68.712635</td>\n",
              "      <td>88.902952</td>\n",
              "    </tr>\n",
              "    <tr>\n",
              "      <th>1</th>\n",
              "      <td>27.678546</td>\n",
              "      <td>85.304622</td>\n",
              "    </tr>\n",
              "    <tr>\n",
              "      <th>2</th>\n",
              "      <td>74.712635</td>\n",
              "      <td>60.098323</td>\n",
              "    </tr>\n",
              "    <tr>\n",
              "      <th>3</th>\n",
              "      <td>41.712635</td>\n",
              "      <td>73.980830</td>\n",
              "    </tr>\n",
              "    <tr>\n",
              "      <th>4</th>\n",
              "      <td>27.678510</td>\n",
              "      <td>85.304612</td>\n",
              "    </tr>\n",
              "  </tbody>\n",
              "</table>\n",
              "</div>\n",
              "      <button class=\"colab-df-convert\" onclick=\"convertToInteractive('df-4ffa0ccc-c9ca-40ce-b614-ee332e7303ab')\"\n",
              "              title=\"Convert this dataframe to an interactive table.\"\n",
              "              style=\"display:none;\">\n",
              "        \n",
              "  <svg xmlns=\"http://www.w3.org/2000/svg\" height=\"24px\"viewBox=\"0 0 24 24\"\n",
              "       width=\"24px\">\n",
              "    <path d=\"M0 0h24v24H0V0z\" fill=\"none\"/>\n",
              "    <path d=\"M18.56 5.44l.94 2.06.94-2.06 2.06-.94-2.06-.94-.94-2.06-.94 2.06-2.06.94zm-11 1L8.5 8.5l.94-2.06 2.06-.94-2.06-.94L8.5 2.5l-.94 2.06-2.06.94zm10 10l.94 2.06.94-2.06 2.06-.94-2.06-.94-.94-2.06-.94 2.06-2.06.94z\"/><path d=\"M17.41 7.96l-1.37-1.37c-.4-.4-.92-.59-1.43-.59-.52 0-1.04.2-1.43.59L10.3 9.45l-7.72 7.72c-.78.78-.78 2.05 0 2.83L4 21.41c.39.39.9.59 1.41.59.51 0 1.02-.2 1.41-.59l7.78-7.78 2.81-2.81c.8-.78.8-2.07 0-2.86zM5.41 20L4 18.59l7.72-7.72 1.47 1.35L5.41 20z\"/>\n",
              "  </svg>\n",
              "      </button>\n",
              "      \n",
              "  <style>\n",
              "    .colab-df-container {\n",
              "      display:flex;\n",
              "      flex-wrap:wrap;\n",
              "      gap: 12px;\n",
              "    }\n",
              "\n",
              "    .colab-df-convert {\n",
              "      background-color: #E8F0FE;\n",
              "      border: none;\n",
              "      border-radius: 50%;\n",
              "      cursor: pointer;\n",
              "      display: none;\n",
              "      fill: #1967D2;\n",
              "      height: 32px;\n",
              "      padding: 0 0 0 0;\n",
              "      width: 32px;\n",
              "    }\n",
              "\n",
              "    .colab-df-convert:hover {\n",
              "      background-color: #E2EBFA;\n",
              "      box-shadow: 0px 1px 2px rgba(60, 64, 67, 0.3), 0px 1px 3px 1px rgba(60, 64, 67, 0.15);\n",
              "      fill: #174EA6;\n",
              "    }\n",
              "\n",
              "    [theme=dark] .colab-df-convert {\n",
              "      background-color: #3B4455;\n",
              "      fill: #D2E3FC;\n",
              "    }\n",
              "\n",
              "    [theme=dark] .colab-df-convert:hover {\n",
              "      background-color: #434B5C;\n",
              "      box-shadow: 0px 1px 3px 1px rgba(0, 0, 0, 0.15);\n",
              "      filter: drop-shadow(0px 1px 2px rgba(0, 0, 0, 0.3));\n",
              "      fill: #FFFFFF;\n",
              "    }\n",
              "  </style>\n",
              "\n",
              "      <script>\n",
              "        const buttonEl =\n",
              "          document.querySelector('#df-4ffa0ccc-c9ca-40ce-b614-ee332e7303ab button.colab-df-convert');\n",
              "        buttonEl.style.display =\n",
              "          google.colab.kernel.accessAllowed ? 'block' : 'none';\n",
              "\n",
              "        async function convertToInteractive(key) {\n",
              "          const element = document.querySelector('#df-4ffa0ccc-c9ca-40ce-b614-ee332e7303ab');\n",
              "          const dataTable =\n",
              "            await google.colab.kernel.invokeFunction('convertToInteractive',\n",
              "                                                     [key], {});\n",
              "          if (!dataTable) return;\n",
              "\n",
              "          const docLinkHtml = 'Like what you see? Visit the ' +\n",
              "            '<a target=\"_blank\" href=https://colab.research.google.com/notebooks/data_table.ipynb>data table notebook</a>'\n",
              "            + ' to learn more about interactive tables.';\n",
              "          element.innerHTML = '';\n",
              "          dataTable['output_type'] = 'display_data';\n",
              "          await google.colab.output.renderOutput(dataTable, element);\n",
              "          const docLink = document.createElement('div');\n",
              "          docLink.innerHTML = docLinkHtml;\n",
              "          element.appendChild(docLink);\n",
              "        }\n",
              "      </script>\n",
              "    </div>\n",
              "  </div>\n",
              "  "
            ]
          },
          "metadata": {},
          "execution_count": 304
        }
      ],
      "source": [
        "X.head()"
      ]
    },
    {
      "cell_type": "code",
      "execution_count": null,
      "metadata": {
        "id": "7kKAABhfrMdZ",
        "colab": {
          "base_uri": "https://localhost:8080/",
          "height": 206
        },
        "outputId": "39438802-7f0f-436b-9bbf-b5a68b776077"
      },
      "outputs": [
        {
          "output_type": "execute_result",
          "data": {
            "text/plain": [
              "   0   1   2   3   4   5   6   7   8   9   10  11  12  13  14  15\n",
              "0   0   0   0   0   0   0   0   0   0   0   0   0   0   1   0   0\n",
              "1   0   1   0   0   0   0   0   0   0   0   0   0   0   0   0   0\n",
              "2   0   0   0   1   0   0   0   0   0   0   0   0   0   0   0   0\n",
              "3   0   0   0   0   0   0   0   0   0   0   0   0   0   0   0   1\n",
              "4   0   0   0   0   0   0   0   0   0   0   0   0   0   0   0   1"
            ],
            "text/html": [
              "\n",
              "  <div id=\"df-0f62fde9-55e9-42fc-a221-e70a4552e240\">\n",
              "    <div class=\"colab-df-container\">\n",
              "      <div>\n",
              "<style scoped>\n",
              "    .dataframe tbody tr th:only-of-type {\n",
              "        vertical-align: middle;\n",
              "    }\n",
              "\n",
              "    .dataframe tbody tr th {\n",
              "        vertical-align: top;\n",
              "    }\n",
              "\n",
              "    .dataframe thead th {\n",
              "        text-align: right;\n",
              "    }\n",
              "</style>\n",
              "<table border=\"1\" class=\"dataframe\">\n",
              "  <thead>\n",
              "    <tr style=\"text-align: right;\">\n",
              "      <th></th>\n",
              "      <th>0</th>\n",
              "      <th>1</th>\n",
              "      <th>2</th>\n",
              "      <th>3</th>\n",
              "      <th>4</th>\n",
              "      <th>5</th>\n",
              "      <th>6</th>\n",
              "      <th>7</th>\n",
              "      <th>8</th>\n",
              "      <th>9</th>\n",
              "      <th>10</th>\n",
              "      <th>11</th>\n",
              "      <th>12</th>\n",
              "      <th>13</th>\n",
              "      <th>14</th>\n",
              "      <th>15</th>\n",
              "    </tr>\n",
              "  </thead>\n",
              "  <tbody>\n",
              "    <tr>\n",
              "      <th>0</th>\n",
              "      <td>0</td>\n",
              "      <td>0</td>\n",
              "      <td>0</td>\n",
              "      <td>0</td>\n",
              "      <td>0</td>\n",
              "      <td>0</td>\n",
              "      <td>0</td>\n",
              "      <td>0</td>\n",
              "      <td>0</td>\n",
              "      <td>0</td>\n",
              "      <td>0</td>\n",
              "      <td>0</td>\n",
              "      <td>0</td>\n",
              "      <td>1</td>\n",
              "      <td>0</td>\n",
              "      <td>0</td>\n",
              "    </tr>\n",
              "    <tr>\n",
              "      <th>1</th>\n",
              "      <td>0</td>\n",
              "      <td>1</td>\n",
              "      <td>0</td>\n",
              "      <td>0</td>\n",
              "      <td>0</td>\n",
              "      <td>0</td>\n",
              "      <td>0</td>\n",
              "      <td>0</td>\n",
              "      <td>0</td>\n",
              "      <td>0</td>\n",
              "      <td>0</td>\n",
              "      <td>0</td>\n",
              "      <td>0</td>\n",
              "      <td>0</td>\n",
              "      <td>0</td>\n",
              "      <td>0</td>\n",
              "    </tr>\n",
              "    <tr>\n",
              "      <th>2</th>\n",
              "      <td>0</td>\n",
              "      <td>0</td>\n",
              "      <td>0</td>\n",
              "      <td>1</td>\n",
              "      <td>0</td>\n",
              "      <td>0</td>\n",
              "      <td>0</td>\n",
              "      <td>0</td>\n",
              "      <td>0</td>\n",
              "      <td>0</td>\n",
              "      <td>0</td>\n",
              "      <td>0</td>\n",
              "      <td>0</td>\n",
              "      <td>0</td>\n",
              "      <td>0</td>\n",
              "      <td>0</td>\n",
              "    </tr>\n",
              "    <tr>\n",
              "      <th>3</th>\n",
              "      <td>0</td>\n",
              "      <td>0</td>\n",
              "      <td>0</td>\n",
              "      <td>0</td>\n",
              "      <td>0</td>\n",
              "      <td>0</td>\n",
              "      <td>0</td>\n",
              "      <td>0</td>\n",
              "      <td>0</td>\n",
              "      <td>0</td>\n",
              "      <td>0</td>\n",
              "      <td>0</td>\n",
              "      <td>0</td>\n",
              "      <td>0</td>\n",
              "      <td>0</td>\n",
              "      <td>1</td>\n",
              "    </tr>\n",
              "    <tr>\n",
              "      <th>4</th>\n",
              "      <td>0</td>\n",
              "      <td>0</td>\n",
              "      <td>0</td>\n",
              "      <td>0</td>\n",
              "      <td>0</td>\n",
              "      <td>0</td>\n",
              "      <td>0</td>\n",
              "      <td>0</td>\n",
              "      <td>0</td>\n",
              "      <td>0</td>\n",
              "      <td>0</td>\n",
              "      <td>0</td>\n",
              "      <td>0</td>\n",
              "      <td>0</td>\n",
              "      <td>0</td>\n",
              "      <td>1</td>\n",
              "    </tr>\n",
              "  </tbody>\n",
              "</table>\n",
              "</div>\n",
              "      <button class=\"colab-df-convert\" onclick=\"convertToInteractive('df-0f62fde9-55e9-42fc-a221-e70a4552e240')\"\n",
              "              title=\"Convert this dataframe to an interactive table.\"\n",
              "              style=\"display:none;\">\n",
              "        \n",
              "  <svg xmlns=\"http://www.w3.org/2000/svg\" height=\"24px\"viewBox=\"0 0 24 24\"\n",
              "       width=\"24px\">\n",
              "    <path d=\"M0 0h24v24H0V0z\" fill=\"none\"/>\n",
              "    <path d=\"M18.56 5.44l.94 2.06.94-2.06 2.06-.94-2.06-.94-.94-2.06-.94 2.06-2.06.94zm-11 1L8.5 8.5l.94-2.06 2.06-.94-2.06-.94L8.5 2.5l-.94 2.06-2.06.94zm10 10l.94 2.06.94-2.06 2.06-.94-2.06-.94-.94-2.06-.94 2.06-2.06.94z\"/><path d=\"M17.41 7.96l-1.37-1.37c-.4-.4-.92-.59-1.43-.59-.52 0-1.04.2-1.43.59L10.3 9.45l-7.72 7.72c-.78.78-.78 2.05 0 2.83L4 21.41c.39.39.9.59 1.41.59.51 0 1.02-.2 1.41-.59l7.78-7.78 2.81-2.81c.8-.78.8-2.07 0-2.86zM5.41 20L4 18.59l7.72-7.72 1.47 1.35L5.41 20z\"/>\n",
              "  </svg>\n",
              "      </button>\n",
              "      \n",
              "  <style>\n",
              "    .colab-df-container {\n",
              "      display:flex;\n",
              "      flex-wrap:wrap;\n",
              "      gap: 12px;\n",
              "    }\n",
              "\n",
              "    .colab-df-convert {\n",
              "      background-color: #E8F0FE;\n",
              "      border: none;\n",
              "      border-radius: 50%;\n",
              "      cursor: pointer;\n",
              "      display: none;\n",
              "      fill: #1967D2;\n",
              "      height: 32px;\n",
              "      padding: 0 0 0 0;\n",
              "      width: 32px;\n",
              "    }\n",
              "\n",
              "    .colab-df-convert:hover {\n",
              "      background-color: #E2EBFA;\n",
              "      box-shadow: 0px 1px 2px rgba(60, 64, 67, 0.3), 0px 1px 3px 1px rgba(60, 64, 67, 0.15);\n",
              "      fill: #174EA6;\n",
              "    }\n",
              "\n",
              "    [theme=dark] .colab-df-convert {\n",
              "      background-color: #3B4455;\n",
              "      fill: #D2E3FC;\n",
              "    }\n",
              "\n",
              "    [theme=dark] .colab-df-convert:hover {\n",
              "      background-color: #434B5C;\n",
              "      box-shadow: 0px 1px 3px 1px rgba(0, 0, 0, 0.15);\n",
              "      filter: drop-shadow(0px 1px 2px rgba(0, 0, 0, 0.3));\n",
              "      fill: #FFFFFF;\n",
              "    }\n",
              "  </style>\n",
              "\n",
              "      <script>\n",
              "        const buttonEl =\n",
              "          document.querySelector('#df-0f62fde9-55e9-42fc-a221-e70a4552e240 button.colab-df-convert');\n",
              "        buttonEl.style.display =\n",
              "          google.colab.kernel.accessAllowed ? 'block' : 'none';\n",
              "\n",
              "        async function convertToInteractive(key) {\n",
              "          const element = document.querySelector('#df-0f62fde9-55e9-42fc-a221-e70a4552e240');\n",
              "          const dataTable =\n",
              "            await google.colab.kernel.invokeFunction('convertToInteractive',\n",
              "                                                     [key], {});\n",
              "          if (!dataTable) return;\n",
              "\n",
              "          const docLinkHtml = 'Like what you see? Visit the ' +\n",
              "            '<a target=\"_blank\" href=https://colab.research.google.com/notebooks/data_table.ipynb>data table notebook</a>'\n",
              "            + ' to learn more about interactive tables.';\n",
              "          element.innerHTML = '';\n",
              "          dataTable['output_type'] = 'display_data';\n",
              "          await google.colab.output.renderOutput(dataTable, element);\n",
              "          const docLink = document.createElement('div');\n",
              "          docLink.innerHTML = docLinkHtml;\n",
              "          element.appendChild(docLink);\n",
              "        }\n",
              "      </script>\n",
              "    </div>\n",
              "  </div>\n",
              "  "
            ]
          },
          "metadata": {},
          "execution_count": 305
        }
      ],
      "source": [
        "y = pd.get_dummies(y)\n",
        "y.head()"
      ]
    },
    {
      "cell_type": "code",
      "source": [],
      "metadata": {
        "id": "jiXsWQAE0LxL"
      },
      "execution_count": null,
      "outputs": []
    },
    {
      "cell_type": "code",
      "source": [
        "print(X.shape)\n",
        "print(y.shape)"
      ],
      "metadata": {
        "colab": {
          "base_uri": "https://localhost:8080/"
        },
        "id": "kKcdiOHvmgcG",
        "outputId": "0a1e2eb2-13c3-4646-df9b-d500bf16f15d"
      },
      "execution_count": null,
      "outputs": [
        {
          "output_type": "stream",
          "name": "stdout",
          "text": [
            "(432, 2)\n",
            "(432, 16)\n"
          ]
        }
      ]
    },
    {
      "cell_type": "code",
      "execution_count": null,
      "metadata": {
        "id": "Gw9UxGEBl-Ie"
      },
      "outputs": [],
      "source": [
        "X_train, X_test, y_train, y_test = train_test_split(X, y, train_size=0.75, test_size=0.25, random_state = 10, shuffle=True)"
      ]
    },
    {
      "cell_type": "code",
      "execution_count": null,
      "metadata": {
        "id": "UUY3TvDdDB5U",
        "colab": {
          "base_uri": "https://localhost:8080/"
        },
        "outputId": "6298d988-501a-44ae-8bdd-90c3bafd9558"
      },
      "outputs": [
        {
          "output_type": "stream",
          "name": "stdout",
          "text": [
            "(108, 16)\n",
            "(324, 16)\n"
          ]
        }
      ],
      "source": [
        "print(y_test.shape)\n",
        "print(y_train.shape)"
      ]
    },
    {
      "cell_type": "code",
      "execution_count": null,
      "metadata": {
        "id": "h1ENXQblsrAW",
        "colab": {
          "base_uri": "https://localhost:8080/"
        },
        "outputId": "fdad0ce2-0c4c-4903-947d-7c421f2437bb"
      },
      "outputs": [
        {
          "output_type": "execute_result",
          "data": {
            "text/plain": [
              "0     2\n",
              "1     2\n",
              "2     2\n",
              "3     2\n",
              "4     2\n",
              "5     2\n",
              "6     2\n",
              "7     2\n",
              "8     2\n",
              "9     2\n",
              "10    2\n",
              "11    2\n",
              "12    2\n",
              "13    2\n",
              "14    2\n",
              "15    2\n",
              "dtype: int64"
            ]
          },
          "metadata": {},
          "execution_count": 309
        }
      ],
      "source": [
        "y_test.nunique()"
      ]
    },
    {
      "cell_type": "markdown",
      "metadata": {
        "id": "qEwqkykUiMpi"
      },
      "source": [
        "### Integrating Keras"
      ]
    },
    {
      "cell_type": "markdown",
      "metadata": {
        "id": "K_gxWvELiZFW"
      },
      "source": [
        "For this class it is useful if everyone gets the same results from their training. Keras uses a random number generator at certain points during its execution. Therefore we will need to set two random seeds, one for numpy and one for tensorflow:"
      ]
    },
    {
      "cell_type": "code",
      "execution_count": null,
      "metadata": {
        "id": "LxM-nJkW8Yzs",
        "colab": {
          "base_uri": "https://localhost:8080/"
        },
        "outputId": "da0272ba-89d7-4eca-e72b-43e5560f0335"
      },
      "outputs": [
        {
          "output_type": "execute_result",
          "data": {
            "text/plain": [
              "(108, 16)"
            ]
          },
          "metadata": {},
          "execution_count": 310
        }
      ],
      "source": [
        "y_test.shape"
      ]
    },
    {
      "cell_type": "code",
      "execution_count": null,
      "metadata": {
        "id": "Qtn3jy3wt4Z3",
        "colab": {
          "base_uri": "https://localhost:8080/"
        },
        "outputId": "01aa32f9-6ed3-46df-bfb4-53a0be722c4e"
      },
      "outputs": [
        {
          "output_type": "execute_result",
          "data": {
            "text/plain": [
              "(108, 2)"
            ]
          },
          "metadata": {},
          "execution_count": 311
        }
      ],
      "source": [
        "X_test.shape"
      ]
    },
    {
      "cell_type": "code",
      "execution_count": null,
      "metadata": {
        "id": "H7UjYXPdlrC2"
      },
      "outputs": [],
      "source": [
        "# from numpy.random import seed\n",
        "# seed(1)\n",
        "# from tensorflow import random\n",
        "# random.set_seed(2)"
      ]
    },
    {
      "cell_type": "code",
      "execution_count": null,
      "metadata": {
        "id": "vp_ZKxZtuf8t",
        "colab": {
          "base_uri": "https://localhost:8080/"
        },
        "outputId": "c279f694-2516-4539-9611-5a6d26ac148f"
      },
      "outputs": [
        {
          "output_type": "execute_result",
          "data": {
            "text/plain": [
              "2"
            ]
          },
          "metadata": {},
          "execution_count": 313
        }
      ],
      "source": [
        "X_train.shape[1]"
      ]
    },
    {
      "cell_type": "markdown",
      "metadata": {
        "id": "BcVagyXbi1Fu"
      },
      "source": [
        "Keras automatically calculates the number of inputs and outputs a layer needs and thus, how many edges need to be created. We instantiate 'keras.Input()' to let Keras know how big our input is going to be."
      ]
    },
    {
      "cell_type": "code",
      "execution_count": null,
      "metadata": {
        "id": "e4F-fidjimQb"
      },
      "outputs": [],
      "source": [
        "inputs = keras.Input(shape=X_train.shape[1])"
      ]
    },
    {
      "cell_type": "markdown",
      "metadata": {
        "id": "VuMUwCZBjJ5a"
      },
      "source": [
        "Storing reference to this input class in a variable so, it can be passed to the creation of our hidden layer."
      ]
    },
    {
      "cell_type": "code",
      "execution_count": null,
      "metadata": {
        "id": "qgPIcST9jTGu"
      },
      "outputs": [],
      "source": [
        "# Creating hidden layer\n",
        "hidden_layer = keras.layers.Dense(128, activation=\"relu\")(inputs)\n"
      ]
    },
    {
      "cell_type": "markdown",
      "metadata": {
        "id": "5n1bVkS5jhUc"
      },
      "source": [
        "128 => number of neurons we want in this layer\n",
        "relu => activation function; It's 0 for inputs 0 and below, while returns identity function for inputs above 0.\n",
        "(inputs)=> This means that after creating an instance of the Dense layer we call it as if it was a function. This tells the Dense layer to connect the layer passed as a parameter, in this case the inputs. Finally we store a reference so we can pass it to the output layer in a minute."
      ]
    },
    {
      "cell_type": "code",
      "execution_count": null,
      "metadata": {
        "id": "nP3nl_7DkzIi"
      },
      "outputs": [],
      "source": [
        "# Creating another layer-output layer\n",
        "output_layer = keras.layers.Dense(16, activation=\"softmax\")(hidden_layer)"
      ]
    },
    {
      "cell_type": "markdown",
      "metadata": {
        "id": "NjeY43AXlHY9"
      },
      "source": [
        "We chose 1 neuron for the output layer"
      ]
    },
    {
      "cell_type": "code",
      "execution_count": null,
      "metadata": {
        "id": "Ds3MpURIl9oh",
        "colab": {
          "base_uri": "https://localhost:8080/"
        },
        "outputId": "dfe21de9-65fa-414b-8700-b55660fa50ec"
      },
      "outputs": [
        {
          "output_type": "stream",
          "name": "stdout",
          "text": [
            "Model: \"model_4\"\n",
            "_________________________________________________________________\n",
            " Layer (type)                Output Shape              Param #   \n",
            "=================================================================\n",
            " input_5 (InputLayer)        [(None, 2)]               0         \n",
            "                                                                 \n",
            " dense_8 (Dense)             (None, 128)               384       \n",
            "                                                                 \n",
            " dense_9 (Dense)             (None, 16)                2064      \n",
            "                                                                 \n",
            "=================================================================\n",
            "Total params: 2,448\n",
            "Trainable params: 2,448\n",
            "Non-trainable params: 0\n",
            "_________________________________________________________________\n"
          ]
        }
      ],
      "source": [
        "# Applying Keras model\n",
        "model = keras.Model(inputs = inputs, outputs = output_layer)\n",
        "model.summary()"
      ]
    },
    {
      "cell_type": "code",
      "execution_count": null,
      "metadata": {
        "id": "MTyan0bGmglI"
      },
      "outputs": [],
      "source": [
        "# Loss function\n",
        "model.compile(optimizer = 'adam', loss = keras.losses.CategoricalCrossentropy(),metrics = ['accuracy'])"
      ]
    },
    {
      "cell_type": "code",
      "execution_count": null,
      "metadata": {
        "id": "xZaJCKbPm19k",
        "colab": {
          "base_uri": "https://localhost:8080/"
        },
        "outputId": "f87ac8fd-cb06-45ed-e107-8b09a876c486"
      },
      "outputs": [
        {
          "output_type": "stream",
          "name": "stdout",
          "text": [
            "Epoch 1/150\n",
            "11/11 [==============================] - 1s 3ms/step - loss: 16.0916 - accuracy: 0.0617\n",
            "Epoch 2/150\n",
            "11/11 [==============================] - 0s 3ms/step - loss: 7.0936 - accuracy: 0.0710\n",
            "Epoch 3/150\n",
            "11/11 [==============================] - 0s 3ms/step - loss: 4.8806 - accuracy: 0.0309\n",
            "Epoch 4/150\n",
            "11/11 [==============================] - 0s 4ms/step - loss: 3.4704 - accuracy: 0.0679\n",
            "Epoch 5/150\n",
            "11/11 [==============================] - 0s 4ms/step - loss: 3.1861 - accuracy: 0.0802\n",
            "Epoch 6/150\n",
            "11/11 [==============================] - 0s 4ms/step - loss: 3.1297 - accuracy: 0.0802\n",
            "Epoch 7/150\n",
            "11/11 [==============================] - 0s 3ms/step - loss: 3.0246 - accuracy: 0.0525\n",
            "Epoch 8/150\n",
            "11/11 [==============================] - 0s 3ms/step - loss: 2.9170 - accuracy: 0.0833\n",
            "Epoch 9/150\n",
            "11/11 [==============================] - 0s 3ms/step - loss: 2.8900 - accuracy: 0.0463\n",
            "Epoch 10/150\n",
            "11/11 [==============================] - 0s 4ms/step - loss: 2.8347 - accuracy: 0.0741\n",
            "Epoch 11/150\n",
            "11/11 [==============================] - 0s 3ms/step - loss: 2.8449 - accuracy: 0.0648\n",
            "Epoch 12/150\n",
            "11/11 [==============================] - 0s 4ms/step - loss: 2.8096 - accuracy: 0.0833\n",
            "Epoch 13/150\n",
            "11/11 [==============================] - 0s 4ms/step - loss: 2.7648 - accuracy: 0.1049\n",
            "Epoch 14/150\n",
            "11/11 [==============================] - 0s 3ms/step - loss: 2.7955 - accuracy: 0.0648\n",
            "Epoch 15/150\n",
            "11/11 [==============================] - 0s 3ms/step - loss: 2.7671 - accuracy: 0.0802\n",
            "Epoch 16/150\n",
            "11/11 [==============================] - 0s 3ms/step - loss: 2.7850 - accuracy: 0.0525\n",
            "Epoch 17/150\n",
            "11/11 [==============================] - 0s 4ms/step - loss: 2.8011 - accuracy: 0.0772\n",
            "Epoch 18/150\n",
            "11/11 [==============================] - 0s 4ms/step - loss: 2.7692 - accuracy: 0.0895\n",
            "Epoch 19/150\n",
            "11/11 [==============================] - 0s 4ms/step - loss: 2.7832 - accuracy: 0.0895\n",
            "Epoch 20/150\n",
            "11/11 [==============================] - 0s 3ms/step - loss: 2.7564 - accuracy: 0.0772\n",
            "Epoch 21/150\n",
            "11/11 [==============================] - 0s 4ms/step - loss: 2.7780 - accuracy: 0.0802\n",
            "Epoch 22/150\n",
            "11/11 [==============================] - 0s 4ms/step - loss: 2.7676 - accuracy: 0.0648\n",
            "Epoch 23/150\n",
            "11/11 [==============================] - 0s 6ms/step - loss: 2.7975 - accuracy: 0.0833\n",
            "Epoch 24/150\n",
            "11/11 [==============================] - 0s 3ms/step - loss: 2.8034 - accuracy: 0.0864\n",
            "Epoch 25/150\n",
            "11/11 [==============================] - 0s 4ms/step - loss: 2.7726 - accuracy: 0.0988\n",
            "Epoch 26/150\n",
            "11/11 [==============================] - 0s 4ms/step - loss: 2.7662 - accuracy: 0.0895\n",
            "Epoch 27/150\n",
            "11/11 [==============================] - 0s 4ms/step - loss: 2.7897 - accuracy: 0.0648\n",
            "Epoch 28/150\n",
            "11/11 [==============================] - 0s 4ms/step - loss: 2.7420 - accuracy: 0.1049\n",
            "Epoch 29/150\n",
            "11/11 [==============================] - 0s 4ms/step - loss: 2.7366 - accuracy: 0.0710\n",
            "Epoch 30/150\n",
            "11/11 [==============================] - 0s 4ms/step - loss: 2.7634 - accuracy: 0.1265\n",
            "Epoch 31/150\n",
            "11/11 [==============================] - 0s 3ms/step - loss: 2.7522 - accuracy: 0.0988\n",
            "Epoch 32/150\n",
            "11/11 [==============================] - 0s 5ms/step - loss: 2.7311 - accuracy: 0.0926\n",
            "Epoch 33/150\n",
            "11/11 [==============================] - 0s 3ms/step - loss: 2.7624 - accuracy: 0.0895\n",
            "Epoch 34/150\n",
            "11/11 [==============================] - 0s 4ms/step - loss: 2.7614 - accuracy: 0.0648\n",
            "Epoch 35/150\n",
            "11/11 [==============================] - 0s 4ms/step - loss: 2.7838 - accuracy: 0.0895\n",
            "Epoch 36/150\n",
            "11/11 [==============================] - 0s 4ms/step - loss: 2.7330 - accuracy: 0.1111\n",
            "Epoch 37/150\n",
            "11/11 [==============================] - 0s 4ms/step - loss: 2.7538 - accuracy: 0.0864\n",
            "Epoch 38/150\n",
            "11/11 [==============================] - 0s 4ms/step - loss: 2.7785 - accuracy: 0.0926\n",
            "Epoch 39/150\n",
            "11/11 [==============================] - 0s 4ms/step - loss: 2.7561 - accuracy: 0.1049\n",
            "Epoch 40/150\n",
            "11/11 [==============================] - 0s 4ms/step - loss: 2.7329 - accuracy: 0.0772\n",
            "Epoch 41/150\n",
            "11/11 [==============================] - 0s 4ms/step - loss: 2.7359 - accuracy: 0.0926\n",
            "Epoch 42/150\n",
            "11/11 [==============================] - 0s 4ms/step - loss: 2.7379 - accuracy: 0.0895\n",
            "Epoch 43/150\n",
            "11/11 [==============================] - 0s 4ms/step - loss: 2.7199 - accuracy: 0.1049\n",
            "Epoch 44/150\n",
            "11/11 [==============================] - 0s 4ms/step - loss: 2.7675 - accuracy: 0.0895\n",
            "Epoch 45/150\n",
            "11/11 [==============================] - 0s 4ms/step - loss: 2.7595 - accuracy: 0.0833\n",
            "Epoch 46/150\n",
            "11/11 [==============================] - 0s 3ms/step - loss: 2.7151 - accuracy: 0.0957\n",
            "Epoch 47/150\n",
            "11/11 [==============================] - 0s 3ms/step - loss: 2.6872 - accuracy: 0.1451\n",
            "Epoch 48/150\n",
            "11/11 [==============================] - 0s 4ms/step - loss: 2.7123 - accuracy: 0.1265\n",
            "Epoch 49/150\n",
            "11/11 [==============================] - 0s 3ms/step - loss: 2.7369 - accuracy: 0.1142\n",
            "Epoch 50/150\n",
            "11/11 [==============================] - 0s 4ms/step - loss: 2.7174 - accuracy: 0.1173\n",
            "Epoch 51/150\n",
            "11/11 [==============================] - 0s 3ms/step - loss: 2.7109 - accuracy: 0.1235\n",
            "Epoch 52/150\n",
            "11/11 [==============================] - 0s 4ms/step - loss: 2.6830 - accuracy: 0.1049\n",
            "Epoch 53/150\n",
            "11/11 [==============================] - 0s 4ms/step - loss: 2.7380 - accuracy: 0.1080\n",
            "Epoch 54/150\n",
            "11/11 [==============================] - 0s 4ms/step - loss: 2.7452 - accuracy: 0.0957\n",
            "Epoch 55/150\n",
            "11/11 [==============================] - 0s 4ms/step - loss: 2.7157 - accuracy: 0.1173\n",
            "Epoch 56/150\n",
            "11/11 [==============================] - 0s 4ms/step - loss: 2.7220 - accuracy: 0.1204\n",
            "Epoch 57/150\n",
            "11/11 [==============================] - 0s 4ms/step - loss: 2.7043 - accuracy: 0.1019\n",
            "Epoch 58/150\n",
            "11/11 [==============================] - 0s 3ms/step - loss: 2.6931 - accuracy: 0.1235\n",
            "Epoch 59/150\n",
            "11/11 [==============================] - 0s 3ms/step - loss: 2.6970 - accuracy: 0.1049\n",
            "Epoch 60/150\n",
            "11/11 [==============================] - 0s 3ms/step - loss: 2.6981 - accuracy: 0.1049\n",
            "Epoch 61/150\n",
            "11/11 [==============================] - 0s 4ms/step - loss: 2.7091 - accuracy: 0.0864\n",
            "Epoch 62/150\n",
            "11/11 [==============================] - 0s 3ms/step - loss: 2.7370 - accuracy: 0.0895\n",
            "Epoch 63/150\n",
            "11/11 [==============================] - 0s 3ms/step - loss: 2.7741 - accuracy: 0.1173\n",
            "Epoch 64/150\n",
            "11/11 [==============================] - 0s 3ms/step - loss: 2.7026 - accuracy: 0.0926\n",
            "Epoch 65/150\n",
            "11/11 [==============================] - 0s 3ms/step - loss: 2.7746 - accuracy: 0.0802\n",
            "Epoch 66/150\n",
            "11/11 [==============================] - 0s 2ms/step - loss: 2.6822 - accuracy: 0.1111\n",
            "Epoch 67/150\n",
            "11/11 [==============================] - 0s 3ms/step - loss: 2.6769 - accuracy: 0.1358\n",
            "Epoch 68/150\n",
            "11/11 [==============================] - 0s 2ms/step - loss: 2.7451 - accuracy: 0.0988\n",
            "Epoch 69/150\n",
            "11/11 [==============================] - 0s 2ms/step - loss: 2.7505 - accuracy: 0.1204\n",
            "Epoch 70/150\n",
            "11/11 [==============================] - 0s 3ms/step - loss: 2.7353 - accuracy: 0.1265\n",
            "Epoch 71/150\n",
            "11/11 [==============================] - 0s 3ms/step - loss: 2.7134 - accuracy: 0.1358\n",
            "Epoch 72/150\n",
            "11/11 [==============================] - 0s 3ms/step - loss: 2.6912 - accuracy: 0.1265\n",
            "Epoch 73/150\n",
            "11/11 [==============================] - 0s 3ms/step - loss: 2.6873 - accuracy: 0.1327\n",
            "Epoch 74/150\n",
            "11/11 [==============================] - 0s 2ms/step - loss: 2.6657 - accuracy: 0.1389\n",
            "Epoch 75/150\n",
            "11/11 [==============================] - 0s 4ms/step - loss: 2.6683 - accuracy: 0.1111\n",
            "Epoch 76/150\n",
            "11/11 [==============================] - 0s 2ms/step - loss: 2.6455 - accuracy: 0.1296\n",
            "Epoch 77/150\n",
            "11/11 [==============================] - 0s 2ms/step - loss: 2.6952 - accuracy: 0.1142\n",
            "Epoch 78/150\n",
            "11/11 [==============================] - 0s 2ms/step - loss: 2.6942 - accuracy: 0.1142\n",
            "Epoch 79/150\n",
            "11/11 [==============================] - 0s 2ms/step - loss: 2.6538 - accuracy: 0.1296\n",
            "Epoch 80/150\n",
            "11/11 [==============================] - 0s 2ms/step - loss: 2.6730 - accuracy: 0.1019\n",
            "Epoch 81/150\n",
            "11/11 [==============================] - 0s 2ms/step - loss: 2.6712 - accuracy: 0.1204\n",
            "Epoch 82/150\n",
            "11/11 [==============================] - 0s 2ms/step - loss: 2.6878 - accuracy: 0.1049\n",
            "Epoch 83/150\n",
            "11/11 [==============================] - 0s 2ms/step - loss: 2.7047 - accuracy: 0.1296\n",
            "Epoch 84/150\n",
            "11/11 [==============================] - 0s 2ms/step - loss: 2.7258 - accuracy: 0.1173\n",
            "Epoch 85/150\n",
            "11/11 [==============================] - 0s 3ms/step - loss: 2.7060 - accuracy: 0.1111\n",
            "Epoch 86/150\n",
            "11/11 [==============================] - 0s 3ms/step - loss: 2.7586 - accuracy: 0.1173\n",
            "Epoch 87/150\n",
            "11/11 [==============================] - 0s 3ms/step - loss: 2.7606 - accuracy: 0.0957\n",
            "Epoch 88/150\n",
            "11/11 [==============================] - 0s 3ms/step - loss: 2.6845 - accuracy: 0.0926\n",
            "Epoch 89/150\n",
            "11/11 [==============================] - 0s 3ms/step - loss: 2.6850 - accuracy: 0.1420\n",
            "Epoch 90/150\n",
            "11/11 [==============================] - 0s 3ms/step - loss: 2.6513 - accuracy: 0.1142\n",
            "Epoch 91/150\n",
            "11/11 [==============================] - 0s 3ms/step - loss: 2.6594 - accuracy: 0.1019\n",
            "Epoch 92/150\n",
            "11/11 [==============================] - 0s 3ms/step - loss: 2.6640 - accuracy: 0.1512\n",
            "Epoch 93/150\n",
            "11/11 [==============================] - 0s 2ms/step - loss: 2.6613 - accuracy: 0.1235\n",
            "Epoch 94/150\n",
            "11/11 [==============================] - 0s 2ms/step - loss: 2.7068 - accuracy: 0.1019\n",
            "Epoch 95/150\n",
            "11/11 [==============================] - 0s 2ms/step - loss: 2.7151 - accuracy: 0.1327\n",
            "Epoch 96/150\n",
            "11/11 [==============================] - 0s 3ms/step - loss: 2.6567 - accuracy: 0.1049\n",
            "Epoch 97/150\n",
            "11/11 [==============================] - 0s 2ms/step - loss: 2.7285 - accuracy: 0.1265\n",
            "Epoch 98/150\n",
            "11/11 [==============================] - 0s 3ms/step - loss: 2.7059 - accuracy: 0.1327\n",
            "Epoch 99/150\n",
            "11/11 [==============================] - 0s 2ms/step - loss: 2.6585 - accuracy: 0.1111\n",
            "Epoch 100/150\n",
            "11/11 [==============================] - 0s 3ms/step - loss: 2.6549 - accuracy: 0.1451\n",
            "Epoch 101/150\n",
            "11/11 [==============================] - 0s 3ms/step - loss: 2.6962 - accuracy: 0.1265\n",
            "Epoch 102/150\n",
            "11/11 [==============================] - 0s 3ms/step - loss: 2.6891 - accuracy: 0.1235\n",
            "Epoch 103/150\n",
            "11/11 [==============================] - 0s 4ms/step - loss: 2.6855 - accuracy: 0.1451\n",
            "Epoch 104/150\n",
            "11/11 [==============================] - 0s 3ms/step - loss: 2.6778 - accuracy: 0.1296\n",
            "Epoch 105/150\n",
            "11/11 [==============================] - 0s 3ms/step - loss: 2.6861 - accuracy: 0.1420\n",
            "Epoch 106/150\n",
            "11/11 [==============================] - 0s 3ms/step - loss: 2.6597 - accuracy: 0.0988\n",
            "Epoch 107/150\n",
            "11/11 [==============================] - 0s 3ms/step - loss: 2.7001 - accuracy: 0.0988\n",
            "Epoch 108/150\n",
            "11/11 [==============================] - 0s 2ms/step - loss: 2.6681 - accuracy: 0.1235\n",
            "Epoch 109/150\n",
            "11/11 [==============================] - 0s 2ms/step - loss: 2.6502 - accuracy: 0.1204\n",
            "Epoch 110/150\n",
            "11/11 [==============================] - 0s 3ms/step - loss: 2.6966 - accuracy: 0.1142\n",
            "Epoch 111/150\n",
            "11/11 [==============================] - 0s 3ms/step - loss: 2.6631 - accuracy: 0.1235\n",
            "Epoch 112/150\n",
            "11/11 [==============================] - 0s 3ms/step - loss: 2.6872 - accuracy: 0.1173\n",
            "Epoch 113/150\n",
            "11/11 [==============================] - 0s 3ms/step - loss: 2.7032 - accuracy: 0.0926\n",
            "Epoch 114/150\n",
            "11/11 [==============================] - 0s 3ms/step - loss: 2.6584 - accuracy: 0.1049\n",
            "Epoch 115/150\n",
            "11/11 [==============================] - 0s 3ms/step - loss: 2.6247 - accuracy: 0.1204\n",
            "Epoch 116/150\n",
            "11/11 [==============================] - 0s 3ms/step - loss: 2.6489 - accuracy: 0.1296\n",
            "Epoch 117/150\n",
            "11/11 [==============================] - 0s 2ms/step - loss: 2.7031 - accuracy: 0.1142\n",
            "Epoch 118/150\n",
            "11/11 [==============================] - 0s 3ms/step - loss: 2.7367 - accuracy: 0.1327\n",
            "Epoch 119/150\n",
            "11/11 [==============================] - 0s 3ms/step - loss: 2.6691 - accuracy: 0.1265\n",
            "Epoch 120/150\n",
            "11/11 [==============================] - 0s 3ms/step - loss: 2.6545 - accuracy: 0.1296\n",
            "Epoch 121/150\n",
            "11/11 [==============================] - 0s 3ms/step - loss: 2.6790 - accuracy: 0.1111\n",
            "Epoch 122/150\n",
            "11/11 [==============================] - 0s 3ms/step - loss: 2.6612 - accuracy: 0.1111\n",
            "Epoch 123/150\n",
            "11/11 [==============================] - 0s 2ms/step - loss: 2.6699 - accuracy: 0.1019\n",
            "Epoch 124/150\n",
            "11/11 [==============================] - 0s 3ms/step - loss: 2.7283 - accuracy: 0.1173\n",
            "Epoch 125/150\n",
            "11/11 [==============================] - 0s 3ms/step - loss: 2.6797 - accuracy: 0.1173\n",
            "Epoch 126/150\n",
            "11/11 [==============================] - 0s 3ms/step - loss: 2.6258 - accuracy: 0.1451\n",
            "Epoch 127/150\n",
            "11/11 [==============================] - 0s 2ms/step - loss: 2.7106 - accuracy: 0.1235\n",
            "Epoch 128/150\n",
            "11/11 [==============================] - 0s 3ms/step - loss: 2.6430 - accuracy: 0.1574\n",
            "Epoch 129/150\n",
            "11/11 [==============================] - 0s 3ms/step - loss: 2.6702 - accuracy: 0.1080\n",
            "Epoch 130/150\n",
            "11/11 [==============================] - 0s 3ms/step - loss: 2.6423 - accuracy: 0.1204\n",
            "Epoch 131/150\n",
            "11/11 [==============================] - 0s 2ms/step - loss: 2.6470 - accuracy: 0.1451\n",
            "Epoch 132/150\n",
            "11/11 [==============================] - 0s 2ms/step - loss: 2.6590 - accuracy: 0.1574\n",
            "Epoch 133/150\n",
            "11/11 [==============================] - 0s 2ms/step - loss: 2.6617 - accuracy: 0.1204\n",
            "Epoch 134/150\n",
            "11/11 [==============================] - 0s 3ms/step - loss: 2.6780 - accuracy: 0.1204\n",
            "Epoch 135/150\n",
            "11/11 [==============================] - 0s 3ms/step - loss: 2.6472 - accuracy: 0.1296\n",
            "Epoch 136/150\n",
            "11/11 [==============================] - 0s 2ms/step - loss: 2.6827 - accuracy: 0.1451\n",
            "Epoch 137/150\n",
            "11/11 [==============================] - 0s 3ms/step - loss: 2.7333 - accuracy: 0.1327\n",
            "Epoch 138/150\n",
            "11/11 [==============================] - 0s 3ms/step - loss: 2.7183 - accuracy: 0.1235\n",
            "Epoch 139/150\n",
            "11/11 [==============================] - 0s 2ms/step - loss: 2.6729 - accuracy: 0.1420\n",
            "Epoch 140/150\n",
            "11/11 [==============================] - 0s 2ms/step - loss: 2.6523 - accuracy: 0.1358\n",
            "Epoch 141/150\n",
            "11/11 [==============================] - 0s 3ms/step - loss: 2.6593 - accuracy: 0.0895\n",
            "Epoch 142/150\n",
            "11/11 [==============================] - 0s 3ms/step - loss: 2.6325 - accuracy: 0.1111\n",
            "Epoch 143/150\n",
            "11/11 [==============================] - 0s 3ms/step - loss: 2.6296 - accuracy: 0.1296\n",
            "Epoch 144/150\n",
            "11/11 [==============================] - 0s 3ms/step - loss: 2.6538 - accuracy: 0.1204\n",
            "Epoch 145/150\n",
            "11/11 [==============================] - 0s 4ms/step - loss: 2.6675 - accuracy: 0.1204\n",
            "Epoch 146/150\n",
            "11/11 [==============================] - 0s 3ms/step - loss: 2.7140 - accuracy: 0.1080\n",
            "Epoch 147/150\n",
            "11/11 [==============================] - 0s 2ms/step - loss: 2.6614 - accuracy: 0.1389\n",
            "Epoch 148/150\n",
            "11/11 [==============================] - 0s 2ms/step - loss: 2.6454 - accuracy: 0.1512\n",
            "Epoch 149/150\n",
            "11/11 [==============================] - 0s 3ms/step - loss: 2.6753 - accuracy: 0.1296\n",
            "Epoch 150/150\n",
            "11/11 [==============================] - 0s 3ms/step - loss: 2.6677 - accuracy: 0.1173\n"
          ]
        }
      ],
      "source": [
        "# Train model\n",
        "history = model.fit(X_train, y_train, epochs=150)"
      ]
    },
    {
      "cell_type": "code",
      "execution_count": null,
      "metadata": {
        "id": "ZOvEgjDZxS-s",
        "colab": {
          "base_uri": "https://localhost:8080/",
          "height": 447
        },
        "outputId": "d6268bfe-e54d-403e-fc1e-3105533b059d"
      },
      "outputs": [
        {
          "output_type": "execute_result",
          "data": {
            "text/plain": [
              "<Axes: >"
            ]
          },
          "metadata": {},
          "execution_count": 320
        },
        {
          "output_type": "display_data",
          "data": {
            "text/plain": [
              "<Figure size 640x480 with 1 Axes>"
            ],
            "image/png": "[encoded data removed]"
          },
          "metadata": {}
        }
      ],
      "source": [
        "import seaborn as sns\n",
        "\n",
        "sns.lineplot(x=history.epoch, y=history.history['loss'])"
      ]
    },
    {
      "cell_type": "code",
      "execution_count": null,
      "metadata": {
        "id": "QgtDtqdqy9fZ",
        "colab": {
          "base_uri": "https://localhost:8080/",
          "height": 447
        },
        "outputId": "8001de1b-cfcd-42c2-eb93-daeff77f00e6"
      },
      "outputs": [
        {
          "output_type": "execute_result",
          "data": {
            "text/plain": [
              "<Axes: >"
            ]
          },
          "metadata": {},
          "execution_count": 321
        },
        {
          "output_type": "display_data",
          "data": {
            "text/plain": [
              "<Figure size 640x480 with 1 Axes>"
            ],
            "image/png": "[encoded data removed]"
          },
          "metadata": {}
        }
      ],
      "source": [
        "sns.lineplot(x=history.epoch, y=history.history['accuracy'])"
      ]
    },
    {
      "cell_type": "code",
      "execution_count": null,
      "metadata": {
        "id": "nxLZ1Zi-zsMb",
        "colab": {
          "base_uri": "https://localhost:8080/"
        },
        "outputId": "7f305352-da73-423c-dba5-b0b1619eebcd"
      },
      "outputs": [
        {
          "output_type": "stream",
          "name": "stderr",
          "text": [
            "WARNING:tensorflow:5 out of the last 13 calls to <function Model.make_predict_function.<locals>.predict_function at 0x7fabaa260940> triggered tf.function retracing. Tracing is expensive and the excessive number of tracings could be due to (1) creating @tf.function repeatedly in a loop, (2) passing tensors with different shapes, (3) passing Python objects instead of tensors. For (1), please define your @tf.function outside of the loop. For (2), @tf.function has reduce_retracing=True option that can avoid unnecessary retracing. For (3), please refer to https://www.tensorflow.org/guide/function#controlling_retracing and https://www.tensorflow.org/api_docs/python/tf/function for  more details.\n"
          ]
        },
        {
          "output_type": "stream",
          "name": "stdout",
          "text": [
            "4/4 [==============================] - 0s 3ms/step\n"
          ]
        }
      ],
      "source": [
        "y_pred = model.predict(X_test)\n"
      ]
    },
    {
      "cell_type": "code",
      "execution_count": null,
      "metadata": {
        "id": "kaYSd1KkzS4N"
      },
      "outputs": [],
      "source": [
        "# y_pred[5]"
      ]
    },
    {
      "cell_type": "code",
      "execution_count": null,
      "metadata": {
        "id": "ocTnhYeuJlCh",
        "colab": {
          "base_uri": "https://localhost:8080/"
        },
        "outputId": "0025cfc5-4d05-4383-9e9c-4ef69fe90f49"
      },
      "outputs": [
        {
          "output_type": "stream",
          "name": "stdout",
          "text": [
            "1/1 [==============================] - 0s 52ms/step\n",
            "0    0\n",
            "dtype: int64\n"
          ]
        },
        {
          "output_type": "execute_result",
          "data": {
            "text/plain": [
              "array([[0.16330151, 0.03945572, 0.05925531, 0.04834421, 0.06121188,\n",
              "        0.01625487, 0.04924504, 0.05240558, 0.01361942, 0.05398227,\n",
              "        0.08440463, 0.08746304, 0.03568583, 0.03462141, 0.13612321,\n",
              "        0.06462606]], dtype=float32)"
            ]
          },
          "metadata": {},
          "execution_count": 324
        }
      ],
      "source": [
        "y_pred = model.predict(np.array([[38.9, 80.9]]))\n",
        "print(pd.DataFrame(y_pred, columns=y.columns).idxmax(axis=\"columns\"))\n",
        "y_pred"
      ]
    },
    {
      "cell_type": "markdown",
      "metadata": {
        "id": "EciYhYRCKsDz"
      },
      "source": []
    },
    {
      "cell_type": "code",
      "source": [
        "prediction = pd.DataFrame(y_pred, columns = y.columns)\n",
        "prediction"
      ],
      "metadata": {
        "colab": {
          "base_uri": "https://localhost:8080/",
          "height": 145
        },
        "id": "5J5SZei2qKeV",
        "outputId": "f6eb7844-2c61-4537-de26-381d92e91332"
      },
      "execution_count": null,
      "outputs": [
        {
          "output_type": "execute_result",
          "data": {
            "text/plain": [
              "         0         1         2         3         4         5         6   \\\n",
              "0  0.163302  0.039456  0.059255  0.048344  0.061212  0.016255  0.049245   \n",
              "\n",
              "         7         8         9         10        11        12        13  \\\n",
              "0  0.052406  0.013619  0.053982  0.084405  0.087463  0.035686  0.034621   \n",
              "\n",
              "         14        15  \n",
              "0  0.136123  0.064626  "
            ],
            "text/html": [
              "\n",
              "  <div id=\"df-8fd0df10-fc26-4849-870f-3f9482332b03\">\n",
              "    <div class=\"colab-df-container\">\n",
              "      <div>\n",
              "<style scoped>\n",
              "    .dataframe tbody tr th:only-of-type {\n",
              "        vertical-align: middle;\n",
              "    }\n",
              "\n",
              "    .dataframe tbody tr th {\n",
              "        vertical-align: top;\n",
              "    }\n",
              "\n",
              "    .dataframe thead th {\n",
              "        text-align: right;\n",
              "    }\n",
              "</style>\n",
              "<table border=\"1\" class=\"dataframe\">\n",
              "  <thead>\n",
              "    <tr style=\"text-align: right;\">\n",
              "      <th></th>\n",
              "      <th>0</th>\n",
              "      <th>1</th>\n",
              "      <th>2</th>\n",
              "      <th>3</th>\n",
              "      <th>4</th>\n",
              "      <th>5</th>\n",
              "      <th>6</th>\n",
              "      <th>7</th>\n",
              "      <th>8</th>\n",
              "      <th>9</th>\n",
              "      <th>10</th>\n",
              "      <th>11</th>\n",
              "      <th>12</th>\n",
              "      <th>13</th>\n",
              "      <th>14</th>\n",
              "      <th>15</th>\n",
              "    </tr>\n",
              "  </thead>\n",
              "  <tbody>\n",
              "    <tr>\n",
              "      <th>0</th>\n",
              "      <td>0.163302</td>\n",
              "      <td>0.039456</td>\n",
              "      <td>0.059255</td>\n",
              "      <td>0.048344</td>\n",
              "      <td>0.061212</td>\n",
              "      <td>0.016255</td>\n",
              "      <td>0.049245</td>\n",
              "      <td>0.052406</td>\n",
              "      <td>0.013619</td>\n",
              "      <td>0.053982</td>\n",
              "      <td>0.084405</td>\n",
              "      <td>0.087463</td>\n",
              "      <td>0.035686</td>\n",
              "      <td>0.034621</td>\n",
              "      <td>0.136123</td>\n",
              "      <td>0.064626</td>\n",
              "    </tr>\n",
              "  </tbody>\n",
              "</table>\n",
              "</div>\n",
              "      <button class=\"colab-df-convert\" onclick=\"convertToInteractive('df-8fd0df10-fc26-4849-870f-3f9482332b03')\"\n",
              "              title=\"Convert this dataframe to an interactive table.\"\n",
              "              style=\"display:none;\">\n",
              "        \n",
              "  <svg xmlns=\"http://www.w3.org/2000/svg\" height=\"24px\"viewBox=\"0 0 24 24\"\n",
              "       width=\"24px\">\n",
              "    <path d=\"M0 0h24v24H0V0z\" fill=\"none\"/>\n",
              "    <path d=\"M18.56 5.44l.94 2.06.94-2.06 2.06-.94-2.06-.94-.94-2.06-.94 2.06-2.06.94zm-11 1L8.5 8.5l.94-2.06 2.06-.94-2.06-.94L8.5 2.5l-.94 2.06-2.06.94zm10 10l.94 2.06.94-2.06 2.06-.94-2.06-.94-.94-2.06-.94 2.06-2.06.94z\"/><path d=\"M17.41 7.96l-1.37-1.37c-.4-.4-.92-.59-1.43-.59-.52 0-1.04.2-1.43.59L10.3 9.45l-7.72 7.72c-.78.78-.78 2.05 0 2.83L4 21.41c.39.39.9.59 1.41.59.51 0 1.02-.2 1.41-.59l7.78-7.78 2.81-2.81c.8-.78.8-2.07 0-2.86zM5.41 20L4 18.59l7.72-7.72 1.47 1.35L5.41 20z\"/>\n",
              "  </svg>\n",
              "      </button>\n",
              "      \n",
              "  <style>\n",
              "    .colab-df-container {\n",
              "      display:flex;\n",
              "      flex-wrap:wrap;\n",
              "      gap: 12px;\n",
              "    }\n",
              "\n",
              "    .colab-df-convert {\n",
              "      background-color: #E8F0FE;\n",
              "      border: none;\n",
              "      border-radius: 50%;\n",
              "      cursor: pointer;\n",
              "      display: none;\n",
              "      fill: #1967D2;\n",
              "      height: 32px;\n",
              "      padding: 0 0 0 0;\n",
              "      width: 32px;\n",
              "    }\n",
              "\n",
              "    .colab-df-convert:hover {\n",
              "      background-color: #E2EBFA;\n",
              "      box-shadow: 0px 1px 2px rgba(60, 64, 67, 0.3), 0px 1px 3px 1px rgba(60, 64, 67, 0.15);\n",
              "      fill: #174EA6;\n",
              "    }\n",
              "\n",
              "    [theme=dark] .colab-df-convert {\n",
              "      background-color: #3B4455;\n",
              "      fill: #D2E3FC;\n",
              "    }\n",
              "\n",
              "    [theme=dark] .colab-df-convert:hover {\n",
              "      background-color: #434B5C;\n",
              "      box-shadow: 0px 1px 3px 1px rgba(0, 0, 0, 0.15);\n",
              "      filter: drop-shadow(0px 1px 2px rgba(0, 0, 0, 0.3));\n",
              "      fill: #FFFFFF;\n",
              "    }\n",
              "  </style>\n",
              "\n",
              "      <script>\n",
              "        const buttonEl =\n",
              "          document.querySelector('#df-8fd0df10-fc26-4849-870f-3f9482332b03 button.colab-df-convert');\n",
              "        buttonEl.style.display =\n",
              "          google.colab.kernel.accessAllowed ? 'block' : 'none';\n",
              "\n",
              "        async function convertToInteractive(key) {\n",
              "          const element = document.querySelector('#df-8fd0df10-fc26-4849-870f-3f9482332b03');\n",
              "          const dataTable =\n",
              "            await google.colab.kernel.invokeFunction('convertToInteractive',\n",
              "                                                     [key], {});\n",
              "          if (!dataTable) return;\n",
              "\n",
              "          const docLinkHtml = 'Like what you see? Visit the ' +\n",
              "            '<a target=\"_blank\" href=https://colab.research.google.com/notebooks/data_table.ipynb>data table notebook</a>'\n",
              "            + ' to learn more about interactive tables.';\n",
              "          element.innerHTML = '';\n",
              "          dataTable['output_type'] = 'display_data';\n",
              "          await google.colab.output.renderOutput(dataTable, element);\n",
              "          const docLink = document.createElement('div');\n",
              "          docLink.innerHTML = docLinkHtml;\n",
              "          element.appendChild(docLink);\n",
              "        }\n",
              "      </script>\n",
              "    </div>\n",
              "  </div>\n",
              "  "
            ]
          },
          "metadata": {},
          "execution_count": 325
        }
      ]
    },
    {
      "cell_type": "code",
      "execution_count": null,
      "metadata": {
        "id": "1tXBrQtG_poD",
        "colab": {
          "base_uri": "https://localhost:8080/",
          "height": 145
        },
        "outputId": "c0869de3-dc05-4270-b7ba-e5e863b02688"
      },
      "outputs": [
        {
          "output_type": "execute_result",
          "data": {
            "text/plain": [
              "         0         1         2         3         4         5         6   \\\n",
              "0  0.163302  0.039456  0.059255  0.048344  0.061212  0.016255  0.049245   \n",
              "\n",
              "         7         8         9         10        11        12        13  \\\n",
              "0  0.052406  0.013619  0.053982  0.084405  0.087463  0.035686  0.034621   \n",
              "\n",
              "         14        15  \n",
              "0  0.136123  0.064626  "
            ],
            "text/html": [
              "\n",
              "  <div id=\"df-e2d43fe4-fb6f-4e61-b356-281f75014b1b\">\n",
              "    <div class=\"colab-df-container\">\n",
              "      <div>\n",
              "<style scoped>\n",
              "    .dataframe tbody tr th:only-of-type {\n",
              "        vertical-align: middle;\n",
              "    }\n",
              "\n",
              "    .dataframe tbody tr th {\n",
              "        vertical-align: top;\n",
              "    }\n",
              "\n",
              "    .dataframe thead th {\n",
              "        text-align: right;\n",
              "    }\n",
              "</style>\n",
              "<table border=\"1\" class=\"dataframe\">\n",
              "  <thead>\n",
              "    <tr style=\"text-align: right;\">\n",
              "      <th></th>\n",
              "      <th>0</th>\n",
              "      <th>1</th>\n",
              "      <th>2</th>\n",
              "      <th>3</th>\n",
              "      <th>4</th>\n",
              "      <th>5</th>\n",
              "      <th>6</th>\n",
              "      <th>7</th>\n",
              "      <th>8</th>\n",
              "      <th>9</th>\n",
              "      <th>10</th>\n",
              "      <th>11</th>\n",
              "      <th>12</th>\n",
              "      <th>13</th>\n",
              "      <th>14</th>\n",
              "      <th>15</th>\n",
              "    </tr>\n",
              "  </thead>\n",
              "  <tbody>\n",
              "    <tr>\n",
              "      <th>0</th>\n",
              "      <td>0.163302</td>\n",
              "      <td>0.039456</td>\n",
              "      <td>0.059255</td>\n",
              "      <td>0.048344</td>\n",
              "      <td>0.061212</td>\n",
              "      <td>0.016255</td>\n",
              "      <td>0.049245</td>\n",
              "      <td>0.052406</td>\n",
              "      <td>0.013619</td>\n",
              "      <td>0.053982</td>\n",
              "      <td>0.084405</td>\n",
              "      <td>0.087463</td>\n",
              "      <td>0.035686</td>\n",
              "      <td>0.034621</td>\n",
              "      <td>0.136123</td>\n",
              "      <td>0.064626</td>\n",
              "    </tr>\n",
              "  </tbody>\n",
              "</table>\n",
              "</div>\n",
              "      <button class=\"colab-df-convert\" onclick=\"convertToInteractive('df-e2d43fe4-fb6f-4e61-b356-281f75014b1b')\"\n",
              "              title=\"Convert this dataframe to an interactive table.\"\n",
              "              style=\"display:none;\">\n",
              "        \n",
              "  <svg xmlns=\"http://www.w3.org/2000/svg\" height=\"24px\"viewBox=\"0 0 24 24\"\n",
              "       width=\"24px\">\n",
              "    <path d=\"M0 0h24v24H0V0z\" fill=\"none\"/>\n",
              "    <path d=\"M18.56 5.44l.94 2.06.94-2.06 2.06-.94-2.06-.94-.94-2.06-.94 2.06-2.06.94zm-11 1L8.5 8.5l.94-2.06 2.06-.94-2.06-.94L8.5 2.5l-.94 2.06-2.06.94zm10 10l.94 2.06.94-2.06 2.06-.94-2.06-.94-.94-2.06-.94 2.06-2.06.94z\"/><path d=\"M17.41 7.96l-1.37-1.37c-.4-.4-.92-.59-1.43-.59-.52 0-1.04.2-1.43.59L10.3 9.45l-7.72 7.72c-.78.78-.78 2.05 0 2.83L4 21.41c.39.39.9.59 1.41.59.51 0 1.02-.2 1.41-.59l7.78-7.78 2.81-2.81c.8-.78.8-2.07 0-2.86zM5.41 20L4 18.59l7.72-7.72 1.47 1.35L5.41 20z\"/>\n",
              "  </svg>\n",
              "      </button>\n",
              "      \n",
              "  <style>\n",
              "    .colab-df-container {\n",
              "      display:flex;\n",
              "      flex-wrap:wrap;\n",
              "      gap: 12px;\n",
              "    }\n",
              "\n",
              "    .colab-df-convert {\n",
              "      background-color: #E8F0FE;\n",
              "      border: none;\n",
              "      border-radius: 50%;\n",
              "      cursor: pointer;\n",
              "      display: none;\n",
              "      fill: #1967D2;\n",
              "      height: 32px;\n",
              "      padding: 0 0 0 0;\n",
              "      width: 32px;\n",
              "    }\n",
              "\n",
              "    .colab-df-convert:hover {\n",
              "      background-color: #E2EBFA;\n",
              "      box-shadow: 0px 1px 2px rgba(60, 64, 67, 0.3), 0px 1px 3px 1px rgba(60, 64, 67, 0.15);\n",
              "      fill: #174EA6;\n",
              "    }\n",
              "\n",
              "    [theme=dark] .colab-df-convert {\n",
              "      background-color: #3B4455;\n",
              "      fill: #D2E3FC;\n",
              "    }\n",
              "\n",
              "    [theme=dark] .colab-df-convert:hover {\n",
              "      background-color: #434B5C;\n",
              "      box-shadow: 0px 1px 3px 1px rgba(0, 0, 0, 0.15);\n",
              "      filter: drop-shadow(0px 1px 2px rgba(0, 0, 0, 0.3));\n",
              "      fill: #FFFFFF;\n",
              "    }\n",
              "  </style>\n",
              "\n",
              "      <script>\n",
              "        const buttonEl =\n",
              "          document.querySelector('#df-e2d43fe4-fb6f-4e61-b356-281f75014b1b button.colab-df-convert');\n",
              "        buttonEl.style.display =\n",
              "          google.colab.kernel.accessAllowed ? 'block' : 'none';\n",
              "\n",
              "        async function convertToInteractive(key) {\n",
              "          const element = document.querySelector('#df-e2d43fe4-fb6f-4e61-b356-281f75014b1b');\n",
              "          const dataTable =\n",
              "            await google.colab.kernel.invokeFunction('convertToInteractive',\n",
              "                                                     [key], {});\n",
              "          if (!dataTable) return;\n",
              "\n",
              "          const docLinkHtml = 'Like what you see? Visit the ' +\n",
              "            '<a target=\"_blank\" href=https://colab.research.google.com/notebooks/data_table.ipynb>data table notebook</a>'\n",
              "            + ' to learn more about interactive tables.';\n",
              "          element.innerHTML = '';\n",
              "          dataTable['output_type'] = 'display_data';\n",
              "          await google.colab.output.renderOutput(dataTable, element);\n",
              "          const docLink = document.createElement('div');\n",
              "          docLink.innerHTML = docLinkHtml;\n",
              "          element.appendChild(docLink);\n",
              "        }\n",
              "      </script>\n",
              "    </div>\n",
              "  </div>\n",
              "  "
            ]
          },
          "metadata": {},
          "execution_count": 326
        }
      ],
      "source": [
        "prediction = pd.DataFrame(y_pred, columns=y.columns)\n",
        "#  y.columns\n",
        "# yi= encoder.inverse_transform(y)\n",
        "# print(yi) \n",
        "prediction"
      ]
    },
    {
      "cell_type": "code",
      "execution_count": null,
      "metadata": {
        "id": "QLNrZYDu_Iiz",
        "colab": {
          "base_uri": "https://localhost:8080/"
        },
        "outputId": "0cf64e0d-c3f0-4119-e6f3-6b74c0dc077d"
      },
      "outputs": [
        {
          "output_type": "stream",
          "name": "stdout",
          "text": [
            "0    0\n",
            "dtype: int64\n"
          ]
        }
      ],
      "source": [
        "predicted_service= prediction.idxmax(axis=\"columns\")\n",
        "print(predicted_service)"
      ]
    },
    {
      "cell_type": "markdown",
      "metadata": {
        "id": "SQ_fc3Iuyv4U"
      },
      "source": [
        "Saving the model."
      ]
    },
    {
      "cell_type": "code",
      "execution_count": null,
      "metadata": {
        "id": "ZCI7sONJkf4f"
      },
      "outputs": [],
      "source": [
        "model.save('/content/recommendationmodel.h5') # saving as keras h5 model"
      ]
    },
    {
      "cell_type": "code",
      "execution_count": null,
      "metadata": {
        "id": "6QajN6g7Edjz"
      },
      "outputs": [],
      "source": [
        "# from sklearn.metrics import confusion_matrix\n",
        "\n",
        "# true_species = y_test.idxmax(axis=\"columns\")\n",
        "\n",
        "# matrix = confusion_matrix(true_species, predicted_service)\n",
        "# print(matrix)"
      ]
    },
    {
      "cell_type": "code",
      "execution_count": null,
      "metadata": {
        "id": "5lT5s8_sE8fa",
        "colab": {
          "base_uri": "https://localhost:8080/"
        },
        "outputId": "83a776b5-4718-46ab-f459-a141d13d9ab1"
      },
      "outputs": [
        {
          "output_type": "stream",
          "name": "stderr",
          "text": [
            "WARNING:absl:Found untraced functions such as _update_step_xla while saving (showing 1 of 1). These functions will not be directly callable after loading.\n"
          ]
        },
        {
          "output_type": "execute_result",
          "data": {
            "text/plain": [
              "11452"
            ]
          },
          "metadata": {},
          "execution_count": 330
        }
      ],
      "source": [
        "# tf.saved_model.save(model,'/drive/MyDrive/New/my_first_model/')\n",
        "# tf.keras.models.save_model(model, 'model.pbtxt')\n",
        "\n",
        "# converter = tf.lite.TFLiteConverter.from_keras_model(model = model)\n",
        "\n",
        "# model_tflite = converter.convert()\n",
        "\n",
        "# open(\"LinearRegressionModel.tflite\", \"wb\").write(model_tflite)\n",
        "\n",
        "modelnew = keras.models.load_model('/content/recommendationmodel.h5')\n",
        "converter = tf.lite.TFLiteConverter.from_keras_model(modelnew)\n",
        "model_tflite = converter.convert()\n",
        "open(\"recommendation_model.tflite\", \"wb\").write(model_tflite)\n"
      ]
    },
    {
      "cell_type": "markdown",
      "metadata": {
        "id": "gXO2YDOLnECR"
      },
      "source": [
        "Rechecking the model"
      ]
    },
    {
      "cell_type": "code",
      "execution_count": null,
      "metadata": {
        "id": "kmKQHb7xnUYV",
        "colab": {
          "base_uri": "https://localhost:8080/"
        },
        "outputId": "2281aba2-c92d-4878-80da-fdfdfc5c34ba"
      },
      "outputs": [
        {
          "output_type": "stream",
          "name": "stdout",
          "text": [
            "1/1 [==============================] - 0s 23ms/step\n",
            "[[0.08685823 0.05759721 0.07518781 0.04488399 0.05981679 0.04667018\n",
            "  0.10576539 0.07536232 0.04646912 0.05190143 0.05890969 0.02465998\n",
            "  0.08043521 0.09435702 0.024832   0.06629362]]\n"
          ]
        }
      ],
      "source": [
        "y_pred = model.predict(np.array([[26.9,80.9]]))\n",
        "print(y_pred)\n",
        "prediction = pd.DataFrame(y_pred, columns=y.columns)"
      ]
    },
    {
      "cell_type": "code",
      "execution_count": null,
      "metadata": {
        "id": "JmEwQUicm3iC",
        "colab": {
          "base_uri": "https://localhost:8080/"
        },
        "outputId": "350065cf-15c5-4b9b-bcb2-e7de7d366ffc"
      },
      "outputs": [
        {
          "output_type": "stream",
          "name": "stdout",
          "text": [
            "0    6\n",
            "dtype: int64\n"
          ]
        }
      ],
      "source": [
        "predicted_service= prediction.idxmax(axis=\"columns\")\n",
        "print(predicted_service)"
      ]
    },
    {
      "cell_type": "code",
      "execution_count": null,
      "metadata": {
        "id": "nQcWReV_Fjma"
      },
      "outputs": [],
      "source": [
        "# pretrained_model = keras.models.load_model('/drive/MyDrive/New/my_first_model')"
      ]
    },
    {
      "cell_type": "code",
      "execution_count": null,
      "metadata": {
        "id": "Sa11vNkTGDtv"
      },
      "outputs": [],
      "source": [
        "# np.array([87.9,89.9]).shape"
      ]
    },
    {
      "cell_type": "code",
      "execution_count": null,
      "metadata": {
        "id": "ZOG4jcSlFfI6"
      },
      "outputs": [],
      "source": [
        "# y_pretrained_pred = pretrained_model.predict(np.array([[24.9,59.9]]))\n",
        "# pretrained_prediction = pd.DataFrame(y_pretrained_pred, columns=y.columns.values)\n",
        "\n",
        "# idxmax will select the column for each row with the highest value\n",
        "# pretrained_predicted_service = pretrained_prediction.idxmax(axis=\"columns\")\n",
        "# print(pretrained_predicted_service)"
      ]
    },
    {
      "cell_type": "code",
      "execution_count": null,
      "metadata": {
        "id": "jEvhjapCG9Wb"
      },
      "outputs": [],
      "source": [
        "# converter = tf.lite.TFLiteConverter.from_keras_model(model) # path to the SavedModel directory\n",
        "# tflite_model = converter.convert()\n",
        "\n",
        "# # Save the model.\n",
        "# with open('/drive/MyDrive/New/model.tflite', 'wb') as f:\n",
        "#   f.write(tflite_model)"
      ]
    }
  ],
  "metadata": {
    "colab": {
      "provenance": [],
      "authorship_tag": "ABX9TyOeAcE0IMJllDvE4EzcKbUR",
      "include_colab_link": true
    },
    "kernelspec": {
      "display_name": "Python 3",
      "name": "python3"
    },
    "language_info": {
      "name": "python"
    }
  },
  "nbformat": 4,
  "nbformat_minor": 0
}